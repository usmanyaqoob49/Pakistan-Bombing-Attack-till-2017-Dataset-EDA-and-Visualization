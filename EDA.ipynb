{
 "cells": [
  {
   "cell_type": "code",
   "execution_count": 1,
   "id": "e38e503c",
   "metadata": {},
   "outputs": [],
   "source": [
    "import numpy as np\n",
    "import pandas as pd\n",
    "import matplotlib.pyplot as plt\n",
    "import seaborn as sns\n",
    "import plotly.express as px"
   ]
  },
  {
   "cell_type": "markdown",
   "id": "39fbbd81",
   "metadata": {},
   "source": [
    "# Importing the Dataset"
   ]
  },
  {
   "cell_type": "code",
   "execution_count": 2,
   "id": "d024a2f6",
   "metadata": {},
   "outputs": [],
   "source": [
    "df= pd.read_csv(\"PakistanSuicideAttacks Ver 11 (30-November-2017).csv\",\n",
    "               encoding='latin-1')"
   ]
  },
  {
   "cell_type": "markdown",
   "id": "679f9598",
   "metadata": {},
   "source": [
    "# Details about Dataset"
   ]
  },
  {
   "cell_type": "code",
   "execution_count": 3,
   "id": "d8c8b884",
   "metadata": {},
   "outputs": [
    {
     "data": {
      "text/html": [
       "<div>\n",
       "<style scoped>\n",
       "    .dataframe tbody tr th:only-of-type {\n",
       "        vertical-align: middle;\n",
       "    }\n",
       "\n",
       "    .dataframe tbody tr th {\n",
       "        vertical-align: top;\n",
       "    }\n",
       "\n",
       "    .dataframe thead th {\n",
       "        text-align: right;\n",
       "    }\n",
       "</style>\n",
       "<table border=\"1\" class=\"dataframe\">\n",
       "  <thead>\n",
       "    <tr style=\"text-align: right;\">\n",
       "      <th></th>\n",
       "      <th>S#</th>\n",
       "      <th>Date</th>\n",
       "      <th>Islamic Date</th>\n",
       "      <th>Blast Day Type</th>\n",
       "      <th>Holiday Type</th>\n",
       "      <th>Time</th>\n",
       "      <th>City</th>\n",
       "      <th>Latitude</th>\n",
       "      <th>Longitude</th>\n",
       "      <th>Province</th>\n",
       "      <th>...</th>\n",
       "      <th>Targeted Sect if any</th>\n",
       "      <th>Killed Min</th>\n",
       "      <th>Killed Max</th>\n",
       "      <th>Injured Min</th>\n",
       "      <th>Injured Max</th>\n",
       "      <th>No. of Suicide Blasts</th>\n",
       "      <th>Explosive Weight (max)</th>\n",
       "      <th>Hospital Names</th>\n",
       "      <th>Temperature(C)</th>\n",
       "      <th>Temperature(F)</th>\n",
       "    </tr>\n",
       "  </thead>\n",
       "  <tbody>\n",
       "    <tr>\n",
       "      <th>0</th>\n",
       "      <td>1</td>\n",
       "      <td>Sunday-November 19-1995</td>\n",
       "      <td>25 Jumaada al-THaany 1416 A.H</td>\n",
       "      <td>Holiday</td>\n",
       "      <td>Weekend</td>\n",
       "      <td>NaN</td>\n",
       "      <td>Islamabad</td>\n",
       "      <td>33.7180</td>\n",
       "      <td>73.0718</td>\n",
       "      <td>Capital</td>\n",
       "      <td>...</td>\n",
       "      <td>NaN</td>\n",
       "      <td>14.0</td>\n",
       "      <td>15.0</td>\n",
       "      <td>NaN</td>\n",
       "      <td>60</td>\n",
       "      <td>2.0</td>\n",
       "      <td>NaN</td>\n",
       "      <td>NaN</td>\n",
       "      <td>15.835</td>\n",
       "      <td>60.503</td>\n",
       "    </tr>\n",
       "    <tr>\n",
       "      <th>1</th>\n",
       "      <td>2</td>\n",
       "      <td>Monday-November 6-2000</td>\n",
       "      <td>10 SHa`baan 1421 A.H</td>\n",
       "      <td>Working Day</td>\n",
       "      <td>NaN</td>\n",
       "      <td>NaN</td>\n",
       "      <td>Karachi</td>\n",
       "      <td>24.9918</td>\n",
       "      <td>66.9911</td>\n",
       "      <td>Sindh</td>\n",
       "      <td>...</td>\n",
       "      <td>NaN</td>\n",
       "      <td>NaN</td>\n",
       "      <td>3.0</td>\n",
       "      <td>NaN</td>\n",
       "      <td>3</td>\n",
       "      <td>1.0</td>\n",
       "      <td>NaN</td>\n",
       "      <td>NaN</td>\n",
       "      <td>23.770</td>\n",
       "      <td>74.786</td>\n",
       "    </tr>\n",
       "    <tr>\n",
       "      <th>2</th>\n",
       "      <td>3</td>\n",
       "      <td>Wednesday-May 8-2002</td>\n",
       "      <td>25 safar 1423 A.H</td>\n",
       "      <td>Working Day</td>\n",
       "      <td>NaN</td>\n",
       "      <td>7:45 AM</td>\n",
       "      <td>Karachi</td>\n",
       "      <td>24.9918</td>\n",
       "      <td>66.9911</td>\n",
       "      <td>Sindh</td>\n",
       "      <td>...</td>\n",
       "      <td>Christian</td>\n",
       "      <td>13.0</td>\n",
       "      <td>15.0</td>\n",
       "      <td>20.0</td>\n",
       "      <td>40</td>\n",
       "      <td>1.0</td>\n",
       "      <td>2.5 Kg</td>\n",
       "      <td>1.Jinnah Postgraduate Medical Center 2. Civil ...</td>\n",
       "      <td>31.460</td>\n",
       "      <td>88.628</td>\n",
       "    </tr>\n",
       "    <tr>\n",
       "      <th>3</th>\n",
       "      <td>4</td>\n",
       "      <td>Friday-June 14-2002</td>\n",
       "      <td>3 Raby` al-THaany 1423 A.H</td>\n",
       "      <td>Working Day</td>\n",
       "      <td>NaN</td>\n",
       "      <td>11:10:00 AM</td>\n",
       "      <td>Karachi</td>\n",
       "      <td>24.9918</td>\n",
       "      <td>66.9911</td>\n",
       "      <td>Sindh</td>\n",
       "      <td>...</td>\n",
       "      <td>Christian</td>\n",
       "      <td>NaN</td>\n",
       "      <td>12.0</td>\n",
       "      <td>NaN</td>\n",
       "      <td>51</td>\n",
       "      <td>1.0</td>\n",
       "      <td>NaN</td>\n",
       "      <td>NaN</td>\n",
       "      <td>31.430</td>\n",
       "      <td>88.574</td>\n",
       "    </tr>\n",
       "    <tr>\n",
       "      <th>4</th>\n",
       "      <td>5</td>\n",
       "      <td>Friday-July 4-2003</td>\n",
       "      <td>4 Jumaada al-awal 1424 A.H</td>\n",
       "      <td>Working Day</td>\n",
       "      <td>NaN</td>\n",
       "      <td>NaN</td>\n",
       "      <td>Quetta</td>\n",
       "      <td>30.2095</td>\n",
       "      <td>67.0182</td>\n",
       "      <td>Baluchistan</td>\n",
       "      <td>...</td>\n",
       "      <td>Shiite</td>\n",
       "      <td>44.0</td>\n",
       "      <td>47.0</td>\n",
       "      <td>NaN</td>\n",
       "      <td>65</td>\n",
       "      <td>1.0</td>\n",
       "      <td>NaN</td>\n",
       "      <td>1.CMH Quetta \\n2.Civil Hospital 3. Boland Medi...</td>\n",
       "      <td>33.120</td>\n",
       "      <td>91.616</td>\n",
       "    </tr>\n",
       "  </tbody>\n",
       "</table>\n",
       "<p>5 rows × 26 columns</p>\n",
       "</div>"
      ],
      "text/plain": [
       "   S#                     Date                   Islamic Date Blast Day Type  \\\n",
       "0   1  Sunday-November 19-1995  25 Jumaada al-THaany 1416 A.H        Holiday   \n",
       "1   2   Monday-November 6-2000           10 SHa`baan 1421 A.H    Working Day   \n",
       "2   3     Wednesday-May 8-2002              25 safar 1423 A.H    Working Day   \n",
       "3   4      Friday-June 14-2002     3 Raby` al-THaany 1423 A.H    Working Day   \n",
       "4   5       Friday-July 4-2003     4 Jumaada al-awal 1424 A.H    Working Day   \n",
       "\n",
       "  Holiday Type         Time       City  Latitude Longitude     Province  ...  \\\n",
       "0      Weekend          NaN  Islamabad   33.7180   73.0718      Capital  ...   \n",
       "1          NaN          NaN    Karachi   24.9918   66.9911        Sindh  ...   \n",
       "2          NaN      7:45 AM   Karachi    24.9918   66.9911        Sindh  ...   \n",
       "3          NaN  11:10:00 AM    Karachi   24.9918   66.9911        Sindh  ...   \n",
       "4          NaN          NaN     Quetta   30.2095   67.0182  Baluchistan  ...   \n",
       "\n",
       "  Targeted Sect if any Killed Min Killed Max Injured Min Injured Max  \\\n",
       "0                  NaN       14.0       15.0         NaN          60   \n",
       "1                  NaN        NaN        3.0         NaN           3   \n",
       "2            Christian       13.0       15.0        20.0          40   \n",
       "3            Christian        NaN       12.0         NaN          51   \n",
       "4               Shiite       44.0       47.0         NaN          65   \n",
       "\n",
       "  No. of Suicide Blasts Explosive Weight (max)  \\\n",
       "0                   2.0                    NaN   \n",
       "1                   1.0                    NaN   \n",
       "2                   1.0                 2.5 Kg   \n",
       "3                   1.0                    NaN   \n",
       "4                   1.0                    NaN   \n",
       "\n",
       "                                      Hospital Names  Temperature(C)  \\\n",
       "0                                                NaN          15.835   \n",
       "1                                                NaN          23.770   \n",
       "2  1.Jinnah Postgraduate Medical Center 2. Civil ...          31.460   \n",
       "3                                                NaN          31.430   \n",
       "4  1.CMH Quetta \\n2.Civil Hospital 3. Boland Medi...          33.120   \n",
       "\n",
       "   Temperature(F)  \n",
       "0          60.503  \n",
       "1          74.786  \n",
       "2          88.628  \n",
       "3          88.574  \n",
       "4          91.616  \n",
       "\n",
       "[5 rows x 26 columns]"
      ]
     },
     "execution_count": 3,
     "metadata": {},
     "output_type": "execute_result"
    }
   ],
   "source": [
    "df.head()"
   ]
  },
  {
   "cell_type": "code",
   "execution_count": 4,
   "id": "fb80ec71",
   "metadata": {},
   "outputs": [
    {
     "data": {
      "text/plain": [
       "Index(['S#', 'Date', 'Islamic Date', 'Blast Day Type', 'Holiday Type', 'Time',\n",
       "       'City', 'Latitude', 'Longitude', 'Province', 'Location',\n",
       "       'Location Category', 'Location Sensitivity', 'Open/Closed Space',\n",
       "       'Influencing Event/Event', 'Target Type', 'Targeted Sect if any',\n",
       "       'Killed Min', 'Killed Max', 'Injured Min', 'Injured Max',\n",
       "       'No. of Suicide Blasts', 'Explosive Weight (max)', 'Hospital Names',\n",
       "       'Temperature(C)', 'Temperature(F)'],\n",
       "      dtype='object')"
      ]
     },
     "execution_count": 4,
     "metadata": {},
     "output_type": "execute_result"
    }
   ],
   "source": [
    "#columns in the dataset\n",
    "df.columns"
   ]
  },
  {
   "cell_type": "code",
   "execution_count": 5,
   "id": "8070056c",
   "metadata": {},
   "outputs": [
    {
     "name": "stdout",
     "output_type": "stream",
     "text": [
      "<class 'pandas.core.frame.DataFrame'>\n",
      "RangeIndex: 496 entries, 0 to 495\n",
      "Data columns (total 26 columns):\n",
      " #   Column                   Non-Null Count  Dtype  \n",
      "---  ------                   --------------  -----  \n",
      " 0   S#                       496 non-null    int64  \n",
      " 1   Date                     496 non-null    object \n",
      " 2   Islamic Date             342 non-null    object \n",
      " 3   Blast Day Type           486 non-null    object \n",
      " 4   Holiday Type             72 non-null     object \n",
      " 5   Time                     285 non-null    object \n",
      " 6   City                     496 non-null    object \n",
      " 7   Latitude                 493 non-null    float64\n",
      " 8   Longitude                493 non-null    object \n",
      " 9   Province                 496 non-null    object \n",
      " 10  Location                 493 non-null    object \n",
      " 11  Location Category        461 non-null    object \n",
      " 12  Location Sensitivity     460 non-null    object \n",
      " 13  Open/Closed Space        461 non-null    object \n",
      " 14  Influencing Event/Event  191 non-null    object \n",
      " 15  Target Type              470 non-null    object \n",
      " 16  Targeted Sect if any     97 non-null     object \n",
      " 17  Killed Min               350 non-null    float64\n",
      " 18  Killed Max               480 non-null    float64\n",
      " 19  Injured Min              365 non-null    float64\n",
      " 20  Injured Max              464 non-null    object \n",
      " 21  No. of Suicide Blasts    414 non-null    float64\n",
      " 22  Explosive Weight (max)   172 non-null    object \n",
      " 23  Hospital Names           297 non-null    object \n",
      " 24  Temperature(C)           491 non-null    float64\n",
      " 25  Temperature(F)           489 non-null    float64\n",
      "dtypes: float64(7), int64(1), object(18)\n",
      "memory usage: 100.9+ KB\n"
     ]
    }
   ],
   "source": [
    "#data types of the columns and null value info\n",
    "df.info()"
   ]
  },
  {
   "cell_type": "code",
   "execution_count": 6,
   "id": "f44b7f8f",
   "metadata": {},
   "outputs": [
    {
     "data": {
      "text/html": [
       "<div>\n",
       "<style scoped>\n",
       "    .dataframe tbody tr th:only-of-type {\n",
       "        vertical-align: middle;\n",
       "    }\n",
       "\n",
       "    .dataframe tbody tr th {\n",
       "        vertical-align: top;\n",
       "    }\n",
       "\n",
       "    .dataframe thead th {\n",
       "        text-align: right;\n",
       "    }\n",
       "</style>\n",
       "<table border=\"1\" class=\"dataframe\">\n",
       "  <thead>\n",
       "    <tr style=\"text-align: right;\">\n",
       "      <th></th>\n",
       "      <th>S#</th>\n",
       "      <th>Latitude</th>\n",
       "      <th>Killed Min</th>\n",
       "      <th>Killed Max</th>\n",
       "      <th>Injured Min</th>\n",
       "      <th>No. of Suicide Blasts</th>\n",
       "      <th>Temperature(C)</th>\n",
       "      <th>Temperature(F)</th>\n",
       "    </tr>\n",
       "  </thead>\n",
       "  <tbody>\n",
       "    <tr>\n",
       "      <th>count</th>\n",
       "      <td>496.000000</td>\n",
       "      <td>493.000000</td>\n",
       "      <td>350.000000</td>\n",
       "      <td>480.000000</td>\n",
       "      <td>365.000000</td>\n",
       "      <td>414.000000</td>\n",
       "      <td>491.000000</td>\n",
       "      <td>489.000000</td>\n",
       "    </tr>\n",
       "    <tr>\n",
       "      <th>mean</th>\n",
       "      <td>248.500000</td>\n",
       "      <td>32.614705</td>\n",
       "      <td>14.725714</td>\n",
       "      <td>15.206250</td>\n",
       "      <td>31.397260</td>\n",
       "      <td>1.115942</td>\n",
       "      <td>21.111599</td>\n",
       "      <td>69.972579</td>\n",
       "    </tr>\n",
       "    <tr>\n",
       "      <th>std</th>\n",
       "      <td>143.327132</td>\n",
       "      <td>2.475917</td>\n",
       "      <td>17.600930</td>\n",
       "      <td>20.270436</td>\n",
       "      <td>38.603842</td>\n",
       "      <td>0.394989</td>\n",
       "      <td>8.369068</td>\n",
       "      <td>15.069622</td>\n",
       "    </tr>\n",
       "    <tr>\n",
       "      <th>min</th>\n",
       "      <td>1.000000</td>\n",
       "      <td>24.879503</td>\n",
       "      <td>0.000000</td>\n",
       "      <td>0.000000</td>\n",
       "      <td>0.000000</td>\n",
       "      <td>1.000000</td>\n",
       "      <td>-2.370000</td>\n",
       "      <td>27.734000</td>\n",
       "    </tr>\n",
       "    <tr>\n",
       "      <th>25%</th>\n",
       "      <td>124.750000</td>\n",
       "      <td>31.823800</td>\n",
       "      <td>3.000000</td>\n",
       "      <td>3.000000</td>\n",
       "      <td>7.000000</td>\n",
       "      <td>1.000000</td>\n",
       "      <td>14.690000</td>\n",
       "      <td>58.370000</td>\n",
       "    </tr>\n",
       "    <tr>\n",
       "      <th>50%</th>\n",
       "      <td>248.500000</td>\n",
       "      <td>33.583300</td>\n",
       "      <td>8.000000</td>\n",
       "      <td>8.000000</td>\n",
       "      <td>20.000000</td>\n",
       "      <td>1.000000</td>\n",
       "      <td>21.405000</td>\n",
       "      <td>70.529000</td>\n",
       "    </tr>\n",
       "    <tr>\n",
       "      <th>75%</th>\n",
       "      <td>372.250000</td>\n",
       "      <td>34.004300</td>\n",
       "      <td>20.000000</td>\n",
       "      <td>18.250000</td>\n",
       "      <td>40.000000</td>\n",
       "      <td>1.000000</td>\n",
       "      <td>28.115000</td>\n",
       "      <td>82.499000</td>\n",
       "    </tr>\n",
       "    <tr>\n",
       "      <th>max</th>\n",
       "      <td>496.000000</td>\n",
       "      <td>35.383300</td>\n",
       "      <td>125.000000</td>\n",
       "      <td>148.000000</td>\n",
       "      <td>320.000000</td>\n",
       "      <td>4.000000</td>\n",
       "      <td>44.000000</td>\n",
       "      <td>111.000000</td>\n",
       "    </tr>\n",
       "  </tbody>\n",
       "</table>\n",
       "</div>"
      ],
      "text/plain": [
       "               S#    Latitude  Killed Min  Killed Max  Injured Min  \\\n",
       "count  496.000000  493.000000  350.000000  480.000000   365.000000   \n",
       "mean   248.500000   32.614705   14.725714   15.206250    31.397260   \n",
       "std    143.327132    2.475917   17.600930   20.270436    38.603842   \n",
       "min      1.000000   24.879503    0.000000    0.000000     0.000000   \n",
       "25%    124.750000   31.823800    3.000000    3.000000     7.000000   \n",
       "50%    248.500000   33.583300    8.000000    8.000000    20.000000   \n",
       "75%    372.250000   34.004300   20.000000   18.250000    40.000000   \n",
       "max    496.000000   35.383300  125.000000  148.000000   320.000000   \n",
       "\n",
       "       No. of Suicide Blasts  Temperature(C)  Temperature(F)  \n",
       "count             414.000000      491.000000      489.000000  \n",
       "mean                1.115942       21.111599       69.972579  \n",
       "std                 0.394989        8.369068       15.069622  \n",
       "min                 1.000000       -2.370000       27.734000  \n",
       "25%                 1.000000       14.690000       58.370000  \n",
       "50%                 1.000000       21.405000       70.529000  \n",
       "75%                 1.000000       28.115000       82.499000  \n",
       "max                 4.000000       44.000000      111.000000  "
      ]
     },
     "execution_count": 6,
     "metadata": {},
     "output_type": "execute_result"
    }
   ],
   "source": [
    "#statistical Information\n",
    "df.describe()"
   ]
  },
  {
   "cell_type": "code",
   "execution_count": 7,
   "id": "61135295",
   "metadata": {},
   "outputs": [
    {
     "data": {
      "text/plain": [
       "(496, 26)"
      ]
     },
     "execution_count": 7,
     "metadata": {},
     "output_type": "execute_result"
    }
   ],
   "source": [
    "#shape of the dataset \n",
    "df.shape"
   ]
  },
  {
   "cell_type": "markdown",
   "id": "49104cfa",
   "metadata": {},
   "source": [
    "# Details about Complex Columns\n",
    "**Blast Day Type** Represent the specific day the blast happened like either it was a working day, holiday or weekend.\n",
    "\n",
    "**Location category** column secified detail of location to which department that location was connected where bomb blast incident occured.\n",
    "\n",
    "**Holiday Type** column give detail about the holiday either it was a weekend or religious holiday.\n",
    "\n",
    "**Location Senstivity** column represent the senstivity of location of bomb blast, either it was High Sensitive, Medium or low."
   ]
  },
  {
   "cell_type": "markdown",
   "id": "2f3fdb15",
   "metadata": {},
   "source": [
    "# Preparing Data for the EDA"
   ]
  },
  {
   "cell_type": "markdown",
   "id": "72a188cd",
   "metadata": {},
   "source": [
    "Removing S# Column as it does not have any role in the eda because we already have the index column."
   ]
  },
  {
   "cell_type": "code",
   "execution_count": 8,
   "id": "4a1a9b13",
   "metadata": {},
   "outputs": [],
   "source": [
    "df.drop('S#',\n",
    "       axis = 1,\n",
    "       inplace=True)"
   ]
  },
  {
   "cell_type": "code",
   "execution_count": 9,
   "id": "1fafbe8d",
   "metadata": {},
   "outputs": [
    {
     "data": {
      "text/html": [
       "<div>\n",
       "<style scoped>\n",
       "    .dataframe tbody tr th:only-of-type {\n",
       "        vertical-align: middle;\n",
       "    }\n",
       "\n",
       "    .dataframe tbody tr th {\n",
       "        vertical-align: top;\n",
       "    }\n",
       "\n",
       "    .dataframe thead th {\n",
       "        text-align: right;\n",
       "    }\n",
       "</style>\n",
       "<table border=\"1\" class=\"dataframe\">\n",
       "  <thead>\n",
       "    <tr style=\"text-align: right;\">\n",
       "      <th></th>\n",
       "      <th>Date</th>\n",
       "      <th>Islamic Date</th>\n",
       "      <th>Blast Day Type</th>\n",
       "      <th>Holiday Type</th>\n",
       "      <th>Time</th>\n",
       "      <th>City</th>\n",
       "      <th>Latitude</th>\n",
       "      <th>Longitude</th>\n",
       "      <th>Province</th>\n",
       "      <th>Location</th>\n",
       "      <th>...</th>\n",
       "      <th>Targeted Sect if any</th>\n",
       "      <th>Killed Min</th>\n",
       "      <th>Killed Max</th>\n",
       "      <th>Injured Min</th>\n",
       "      <th>Injured Max</th>\n",
       "      <th>No. of Suicide Blasts</th>\n",
       "      <th>Explosive Weight (max)</th>\n",
       "      <th>Hospital Names</th>\n",
       "      <th>Temperature(C)</th>\n",
       "      <th>Temperature(F)</th>\n",
       "    </tr>\n",
       "  </thead>\n",
       "  <tbody>\n",
       "    <tr>\n",
       "      <th>0</th>\n",
       "      <td>Sunday-November 19-1995</td>\n",
       "      <td>25 Jumaada al-THaany 1416 A.H</td>\n",
       "      <td>Holiday</td>\n",
       "      <td>Weekend</td>\n",
       "      <td>NaN</td>\n",
       "      <td>Islamabad</td>\n",
       "      <td>33.7180</td>\n",
       "      <td>73.0718</td>\n",
       "      <td>Capital</td>\n",
       "      <td>Egyptian Embassy</td>\n",
       "      <td>...</td>\n",
       "      <td>NaN</td>\n",
       "      <td>14.0</td>\n",
       "      <td>15.0</td>\n",
       "      <td>NaN</td>\n",
       "      <td>60</td>\n",
       "      <td>2.0</td>\n",
       "      <td>NaN</td>\n",
       "      <td>NaN</td>\n",
       "      <td>15.835</td>\n",
       "      <td>60.503</td>\n",
       "    </tr>\n",
       "    <tr>\n",
       "      <th>1</th>\n",
       "      <td>Monday-November 6-2000</td>\n",
       "      <td>10 SHa`baan 1421 A.H</td>\n",
       "      <td>Working Day</td>\n",
       "      <td>NaN</td>\n",
       "      <td>NaN</td>\n",
       "      <td>Karachi</td>\n",
       "      <td>24.9918</td>\n",
       "      <td>66.9911</td>\n",
       "      <td>Sindh</td>\n",
       "      <td>office of Nawa-e-Waqt</td>\n",
       "      <td>...</td>\n",
       "      <td>NaN</td>\n",
       "      <td>NaN</td>\n",
       "      <td>3.0</td>\n",
       "      <td>NaN</td>\n",
       "      <td>3</td>\n",
       "      <td>1.0</td>\n",
       "      <td>NaN</td>\n",
       "      <td>NaN</td>\n",
       "      <td>23.770</td>\n",
       "      <td>74.786</td>\n",
       "    </tr>\n",
       "  </tbody>\n",
       "</table>\n",
       "<p>2 rows × 25 columns</p>\n",
       "</div>"
      ],
      "text/plain": [
       "                      Date                   Islamic Date Blast Day Type  \\\n",
       "0  Sunday-November 19-1995  25 Jumaada al-THaany 1416 A.H        Holiday   \n",
       "1   Monday-November 6-2000           10 SHa`baan 1421 A.H    Working Day   \n",
       "\n",
       "  Holiday Type Time       City  Latitude Longitude Province  \\\n",
       "0      Weekend  NaN  Islamabad   33.7180   73.0718  Capital   \n",
       "1          NaN  NaN    Karachi   24.9918   66.9911    Sindh   \n",
       "\n",
       "                Location  ... Targeted Sect if any Killed Min Killed Max  \\\n",
       "0       Egyptian Embassy  ...                  NaN       14.0       15.0   \n",
       "1  office of Nawa-e-Waqt  ...                  NaN        NaN        3.0   \n",
       "\n",
       "  Injured Min Injured Max No. of Suicide Blasts  Explosive Weight (max)  \\\n",
       "0         NaN          60                   2.0                     NaN   \n",
       "1         NaN           3                   1.0                     NaN   \n",
       "\n",
       "   Hospital Names  Temperature(C) Temperature(F)  \n",
       "0             NaN          15.835         60.503  \n",
       "1             NaN          23.770         74.786  \n",
       "\n",
       "[2 rows x 25 columns]"
      ]
     },
     "execution_count": 9,
     "metadata": {},
     "output_type": "execute_result"
    }
   ],
   "source": [
    "df.head(2)"
   ]
  },
  {
   "cell_type": "code",
   "execution_count": 10,
   "id": "54faef35",
   "metadata": {},
   "outputs": [
    {
     "data": {
      "text/plain": [
       "(496, 25)"
      ]
     },
     "execution_count": 10,
     "metadata": {},
     "output_type": "execute_result"
    }
   ],
   "source": [
    "#shape of the dataset\n",
    "df.shape"
   ]
  },
  {
   "cell_type": "markdown",
   "id": "3120f5e9",
   "metadata": {},
   "source": [
    "### Handling Null Values in Important Columns"
   ]
  },
  {
   "cell_type": "code",
   "execution_count": 11,
   "id": "47fe37ba",
   "metadata": {},
   "outputs": [
    {
     "data": {
      "text/plain": [
       "Index(['Date', 'Islamic Date', 'Blast Day Type', 'Holiday Type', 'Time',\n",
       "       'City', 'Latitude', 'Longitude', 'Province', 'Location',\n",
       "       'Location Category', 'Location Sensitivity', 'Open/Closed Space',\n",
       "       'Influencing Event/Event', 'Target Type', 'Targeted Sect if any',\n",
       "       'Killed Min', 'Killed Max', 'Injured Min', 'Injured Max',\n",
       "       'No. of Suicide Blasts', 'Explosive Weight (max)', 'Hospital Names',\n",
       "       'Temperature(C)', 'Temperature(F)'],\n",
       "      dtype='object')"
      ]
     },
     "execution_count": 11,
     "metadata": {},
     "output_type": "execute_result"
    }
   ],
   "source": [
    "df.columns"
   ]
  },
  {
   "cell_type": "markdown",
   "id": "e8cf303a",
   "metadata": {},
   "source": [
    "##### Firstly Finding How many Null Rows are present in the important Columns"
   ]
  },
  {
   "cell_type": "code",
   "execution_count": 46,
   "id": "31eb9c14",
   "metadata": {},
   "outputs": [
    {
     "name": "stdout",
     "output_type": "stream",
     "text": [
      "Number of Null Values in 'Blast Day Type' Column:  10\n",
      "\n",
      "Number of Null Values in 'City' Column:  0\n",
      "\n",
      "Number of Null Values in 'Province' Column:  0\n",
      "\n",
      "Number of Null Values in 'Location Category' Column:  0\n",
      "\n",
      "Number of Null Values in 'Location Senstivity' Column:  0\n",
      "\n",
      "Number of Null Values in 'Target Type' Column:  0\n",
      "\n",
      "Number of Null Values in 'Target Sect if any' Column:  399\n",
      "\n",
      "Number of Null Values in 'Killed Min' Column:  146\n",
      "\n",
      "Number of Null Values in 'Killed Max' Column:  0\n",
      "\n",
      "Number of Null Values in 'Explosive Weight (max)' Column:  324\n"
     ]
    }
   ],
   "source": [
    "#firstly lets check how many null values are in Blast Day type Column\n",
    "print(\"Number of Null Values in 'Blast Day Type' Column: \", df['Blast Day Type'].isnull().sum())\n",
    "\n",
    "#Null values in the City Column\n",
    "print(\"\\nNumber of Null Values in 'City' Column: \", df['City'].isnull().sum())\n",
    "\n",
    "#Null values in the Province Column\n",
    "print(\"\\nNumber of Null Values in 'Province' Column: \",df['Province'].isnull().sum())\n",
    "\n",
    "#Number of Null values in the Location Category Column\n",
    "print(\"\\nNumber of Null Values in 'Location Category' Column: \", df['Location Category'].isnull().sum())\n",
    "\n",
    "#Number of Null Values in the Location Senstivity Column\n",
    "print(\"\\nNumber of Null Values in 'Location Senstivity' Column: \", df['Location Sensitivity'].isnull().sum())\n",
    "\n",
    "#number of null values in target type\n",
    "print(\"\\nNumber of Null Values in 'Target Type' Column: \", df['Target Type'].isnull().sum())\n",
    "\n",
    "#number of null values in Target Sect if any \n",
    "print(\"\\nNumber of Null Values in 'Target Sect if any' Column: \", df['Targeted Sect if any'].isnull().sum())\n",
    "\n",
    "#number of null values in Killed Min\n",
    "print(\"\\nNumber of Null Values in 'Killed Min' Column: \", df['Killed Min'].isnull().sum())\n",
    "\n",
    "#number of null values in Killed Max\n",
    "print(\"\\nNumber of Null Values in 'Killed Max' Column: \", df['Killed Max'].isnull().sum())\n",
    "\n",
    "#number of null values in Explosive Weight (max)\n",
    "print(\"\\nNumber of Null Values in 'Explosive Weight (max)' Column: \", df['Explosive Weight (max)'].isnull().sum())"
   ]
  },
  {
   "cell_type": "markdown",
   "id": "82c429f8",
   "metadata": {},
   "source": [
    "We will ignore columns like Killed Min and Explosive Weight (max) Columns because they have too many Rows with missing values, We can fill these with mean, median but still repetition will be too much and estimate will not accurate.\n",
    "We can do bried EDA without using them."
   ]
  },
  {
   "cell_type": "markdown",
   "id": "13704001",
   "metadata": {},
   "source": [
    "##### Now Handling the missing rows in the Important Columns"
   ]
  },
  {
   "cell_type": "markdown",
   "id": "383ad657",
   "metadata": {},
   "source": [
    "**1. Handling Null Values of Blast Day Type Column:**\"\n",
    "\n",
    "It will the Type of Day Blast Happened. (Like Working Day, Holiday or Weekend)"
   ]
  },
  {
   "cell_type": "markdown",
   "id": "90b2f4cd",
   "metadata": {},
   "source": [
    "As It is a categorical values so to replace Null values we will use most repeated cateogry, this will give us good approximate of replacement. "
   ]
  },
  {
   "cell_type": "code",
   "execution_count": 13,
   "id": "98a8cf43",
   "metadata": {},
   "outputs": [
    {
     "name": "stdout",
     "output_type": "stream",
     "text": [
      "Most Repeated Category is:  Working Day\n",
      "Number of Null Values in 'Blast Day' Column after Replacement:  10\n"
     ]
    }
   ],
   "source": [
    "#finding most repeated category\n",
    "most_repeated_in_Blast_Day_Type = df['Blast Day Type'].mode()\n",
    "\n",
    "#model will give us index and value of mode(most repeated category)\n",
    "print(\"Most Repeated Category is: \", most_repeated_in_Blast_Day_Type[0])\n",
    "\n",
    "#replacing nan with it\n",
    "df['Blast Day Type'].fillna(most_repeated_in_Blast_Day_Type, inplace=True)\n",
    "\n",
    "#Now number of Null values after replacing Null values \n",
    "print(\"Number of Null Values in 'Blast Day' Column after Replacement: \", df['Blast Day Type'].isnull().sum())"
   ]
  },
  {
   "cell_type": "code",
   "execution_count": 14,
   "id": "27a13c07",
   "metadata": {},
   "outputs": [
    {
     "data": {
      "text/plain": [
       "Blast Day Type\n",
       "Working Day    403\n",
       "Holiday         78\n",
       "Weekend          5\n",
       "Name: count, dtype: int64"
      ]
     },
     "execution_count": 14,
     "metadata": {},
     "output_type": "execute_result"
    }
   ],
   "source": [
    "df['Blast Day Type'].value_counts()"
   ]
  },
  {
   "cell_type": "markdown",
   "id": "ef454f9d",
   "metadata": {},
   "source": [
    "**2. Handling Missing Values of the Location Category Column:**"
   ]
  },
  {
   "cell_type": "code",
   "execution_count": 15,
   "id": "d3934e25",
   "metadata": {},
   "outputs": [
    {
     "data": {
      "text/plain": [
       "Location Category\n",
       "Police                        92\n",
       "Mobile                        70\n",
       "Military                      70\n",
       "Religious                     57\n",
       "Market                        40\n",
       "Park/Ground                   32\n",
       "Residence                     25\n",
       "Government                    19\n",
       "Hotel                         10\n",
       "Office Building                9\n",
       "Foreign                        6\n",
       "Educational                    6\n",
       "Hospital                       5\n",
       "Transport                      5\n",
       "Bank                           4\n",
       "Commercial/residence           2\n",
       "Airport                        1\n",
       "Civilian                       1\n",
       "Foreigner                      1\n",
       "Government/Office Building     1\n",
       "Government Official            1\n",
       "foreign                        1\n",
       "Residential Building           1\n",
       "                               1\n",
       "Highway                        1\n",
       "Name: count, dtype: int64"
      ]
     },
     "execution_count": 15,
     "metadata": {},
     "output_type": "execute_result"
    }
   ],
   "source": [
    "df['Location Category'].value_counts()"
   ]
  },
  {
   "cell_type": "markdown",
   "id": "65f63403",
   "metadata": {},
   "source": [
    "As we have alot of the Categories we can not replace 35 null values with most repeated category. So we will replace null values with Unknown."
   ]
  },
  {
   "cell_type": "code",
   "execution_count": 16,
   "id": "4ac51b5c",
   "metadata": {},
   "outputs": [],
   "source": [
    "df['Location Category'].fillna('Unknown', inplace=True)"
   ]
  },
  {
   "cell_type": "code",
   "execution_count": 17,
   "id": "1e6bfce6",
   "metadata": {},
   "outputs": [
    {
     "data": {
      "text/plain": [
       "0"
      ]
     },
     "execution_count": 17,
     "metadata": {},
     "output_type": "execute_result"
    }
   ],
   "source": [
    "df['Location Category'].isna().sum()"
   ]
  },
  {
   "cell_type": "markdown",
   "id": "f4274c2c",
   "metadata": {},
   "source": [
    "**3. Handling Null values in Location sentivity Column**"
   ]
  },
  {
   "cell_type": "code",
   "execution_count": 18,
   "id": "851991be",
   "metadata": {},
   "outputs": [
    {
     "data": {
      "text/plain": [
       "Location Sensitivity\n",
       "High      264\n",
       "Low       118\n",
       "Medium     75\n",
       "low         3\n",
       "Name: count, dtype: int64"
      ]
     },
     "execution_count": 18,
     "metadata": {},
     "output_type": "execute_result"
    }
   ],
   "source": [
    "#Categories and Value Count of each category in the column\n",
    "df['Location Sensitivity'].value_counts()"
   ]
  },
  {
   "cell_type": "code",
   "execution_count": 19,
   "id": "951058be",
   "metadata": {},
   "outputs": [
    {
     "data": {
      "text/plain": [
       "36"
      ]
     },
     "execution_count": 19,
     "metadata": {},
     "output_type": "execute_result"
    }
   ],
   "source": [
    "df['Location Sensitivity'].isna().sum()"
   ]
  },
  {
   "cell_type": "markdown",
   "id": "b0ee3f77",
   "metadata": {},
   "source": [
    "We will replace 36 missing values with the Mode of the Column which will be most repeated Category"
   ]
  },
  {
   "cell_type": "code",
   "execution_count": 20,
   "id": "5b24e046",
   "metadata": {},
   "outputs": [
    {
     "name": "stdout",
     "output_type": "stream",
     "text": [
      "Number of Null values in the Location Senstivity Column after replacement:  0\n"
     ]
    }
   ],
   "source": [
    "most_repeated_Location_Senstitvity = df['Location Sensitivity'].mode()[0]\n",
    "#replacing null values\n",
    "df['Location Sensitivity'].fillna(most_repeated_Location_Senstitvity, inplace=True)\n",
    "#after replacing\n",
    "print(\"Number of Null values in the Location Senstivity Column after replacement: \",df['Location Sensitivity'].isna().sum() )"
   ]
  },
  {
   "cell_type": "code",
   "execution_count": 21,
   "id": "a4da7bfc",
   "metadata": {},
   "outputs": [
    {
     "data": {
      "text/plain": [
       "Location Sensitivity\n",
       "High      300\n",
       "Low       118\n",
       "Medium     75\n",
       "low         3\n",
       "Name: count, dtype: int64"
      ]
     },
     "execution_count": 21,
     "metadata": {},
     "output_type": "execute_result"
    }
   ],
   "source": [
    "df['Location Sensitivity'].value_counts()"
   ]
  },
  {
   "cell_type": "markdown",
   "id": "0a987e65",
   "metadata": {},
   "source": [
    "We need to check why Low and low are seprately represented..."
   ]
  },
  {
   "cell_type": "code",
   "execution_count": 22,
   "id": "2fa29654",
   "metadata": {},
   "outputs": [
    {
     "data": {
      "text/html": [
       "<div>\n",
       "<style scoped>\n",
       "    .dataframe tbody tr th:only-of-type {\n",
       "        vertical-align: middle;\n",
       "    }\n",
       "\n",
       "    .dataframe tbody tr th {\n",
       "        vertical-align: top;\n",
       "    }\n",
       "\n",
       "    .dataframe thead th {\n",
       "        text-align: right;\n",
       "    }\n",
       "</style>\n",
       "<table border=\"1\" class=\"dataframe\">\n",
       "  <thead>\n",
       "    <tr style=\"text-align: right;\">\n",
       "      <th></th>\n",
       "      <th>Date</th>\n",
       "      <th>Islamic Date</th>\n",
       "      <th>Blast Day Type</th>\n",
       "      <th>Holiday Type</th>\n",
       "      <th>Time</th>\n",
       "      <th>City</th>\n",
       "      <th>Latitude</th>\n",
       "      <th>Longitude</th>\n",
       "      <th>Province</th>\n",
       "      <th>Location</th>\n",
       "      <th>...</th>\n",
       "      <th>Targeted Sect if any</th>\n",
       "      <th>Killed Min</th>\n",
       "      <th>Killed Max</th>\n",
       "      <th>Injured Min</th>\n",
       "      <th>Injured Max</th>\n",
       "      <th>No. of Suicide Blasts</th>\n",
       "      <th>Explosive Weight (max)</th>\n",
       "      <th>Hospital Names</th>\n",
       "      <th>Temperature(C)</th>\n",
       "      <th>Temperature(F)</th>\n",
       "    </tr>\n",
       "  </thead>\n",
       "  <tbody>\n",
       "    <tr>\n",
       "      <th>237</th>\n",
       "      <td>Friday-January 8-2010</td>\n",
       "      <td>22 MuHarram 1431 A.H</td>\n",
       "      <td>Working Day</td>\n",
       "      <td>NaN</td>\n",
       "      <td>NaN</td>\n",
       "      <td>Khyber Agency</td>\n",
       "      <td>34.0211</td>\n",
       "      <td>71.2874</td>\n",
       "      <td>KPK</td>\n",
       "      <td>at the gate of the headquarters of the militan...</td>\n",
       "      <td>...</td>\n",
       "      <td>NaN</td>\n",
       "      <td>NaN</td>\n",
       "      <td>8.0</td>\n",
       "      <td>NaN</td>\n",
       "      <td>11</td>\n",
       "      <td>1.0</td>\n",
       "      <td>NaN</td>\n",
       "      <td>NaN</td>\n",
       "      <td>11.330</td>\n",
       "      <td>52.394</td>\n",
       "    </tr>\n",
       "    <tr>\n",
       "      <th>333</th>\n",
       "      <td>Wednesday-November 16-2011</td>\n",
       "      <td>NaN</td>\n",
       "      <td>Working Day</td>\n",
       "      <td>NaN</td>\n",
       "      <td>NaN</td>\n",
       "      <td>Karachi</td>\n",
       "      <td>24.9918</td>\n",
       "      <td>66.9911</td>\n",
       "      <td>Sindh</td>\n",
       "      <td>Sea view-clifton-at lover's point adjacent to ...</td>\n",
       "      <td>...</td>\n",
       "      <td>NaN</td>\n",
       "      <td>5.0</td>\n",
       "      <td>7.0</td>\n",
       "      <td>NaN</td>\n",
       "      <td>1</td>\n",
       "      <td>1.0</td>\n",
       "      <td>NaN</td>\n",
       "      <td>Jinnah Postgraduate Medical Center</td>\n",
       "      <td>25.305</td>\n",
       "      <td>77.549</td>\n",
       "    </tr>\n",
       "    <tr>\n",
       "      <th>334</th>\n",
       "      <td>Friday-November 18-2011</td>\n",
       "      <td>NaN</td>\n",
       "      <td>Working Day</td>\n",
       "      <td>NaN</td>\n",
       "      <td>3:38AM</td>\n",
       "      <td>Karachi</td>\n",
       "      <td>24.9918</td>\n",
       "      <td>66.9911</td>\n",
       "      <td>Sindh</td>\n",
       "      <td>Block 13-near Pehlwan Goth roundabout-Gulistan...</td>\n",
       "      <td>...</td>\n",
       "      <td>NaN</td>\n",
       "      <td>NaN</td>\n",
       "      <td>1.0</td>\n",
       "      <td>NaN</td>\n",
       "      <td>NaN</td>\n",
       "      <td>1.0</td>\n",
       "      <td>NaN</td>\n",
       "      <td>Jinnah Postgraduate Medical Center</td>\n",
       "      <td>27.245</td>\n",
       "      <td>81.041</td>\n",
       "    </tr>\n",
       "  </tbody>\n",
       "</table>\n",
       "<p>3 rows × 25 columns</p>\n",
       "</div>"
      ],
      "text/plain": [
       "                           Date          Islamic Date Blast Day Type  \\\n",
       "237       Friday-January 8-2010  22 MuHarram 1431 A.H    Working Day   \n",
       "333  Wednesday-November 16-2011                   NaN    Working Day   \n",
       "334     Friday-November 18-2011                   NaN    Working Day   \n",
       "\n",
       "    Holiday Type    Time            City  Latitude Longitude Province  \\\n",
       "237          NaN     NaN  Khyber Agency    34.0211   71.2874      KPK   \n",
       "333          NaN     NaN         Karachi   24.9918   66.9911    Sindh   \n",
       "334          NaN  3:38AM         Karachi   24.9918   66.9911    Sindh   \n",
       "\n",
       "                                              Location  ...  \\\n",
       "237  at the gate of the headquarters of the militan...  ...   \n",
       "333  Sea view-clifton-at lover's point adjacent to ...  ...   \n",
       "334  Block 13-near Pehlwan Goth roundabout-Gulistan...  ...   \n",
       "\n",
       "    Targeted Sect if any Killed Min Killed Max Injured Min Injured Max  \\\n",
       "237                  NaN        NaN        8.0         NaN          11   \n",
       "333                  NaN        5.0        7.0         NaN           1   \n",
       "334                  NaN        NaN        1.0         NaN         NaN   \n",
       "\n",
       "    No. of Suicide Blasts  Explosive Weight (max)  \\\n",
       "237                   1.0                     NaN   \n",
       "333                   1.0                     NaN   \n",
       "334                   1.0                     NaN   \n",
       "\n",
       "                         Hospital Names  Temperature(C) Temperature(F)  \n",
       "237                                 NaN          11.330         52.394  \n",
       "333  Jinnah Postgraduate Medical Center          25.305         77.549  \n",
       "334  Jinnah Postgraduate Medical Center          27.245         81.041  \n",
       "\n",
       "[3 rows x 25 columns]"
      ]
     },
     "execution_count": 22,
     "metadata": {},
     "output_type": "execute_result"
    }
   ],
   "source": [
    "df[df['Location Sensitivity'] == 'low'] "
   ]
  },
  {
   "cell_type": "code",
   "execution_count": 23,
   "id": "587246a7",
   "metadata": {},
   "outputs": [],
   "source": [
    "#we will rename low with Low\n",
    "df['Location Sensitivity'].replace({'low':'Low'}, inplace=True)"
   ]
  },
  {
   "cell_type": "code",
   "execution_count": 24,
   "id": "c598a965",
   "metadata": {},
   "outputs": [
    {
     "data": {
      "text/plain": [
       "Location Sensitivity\n",
       "High      300\n",
       "Low       121\n",
       "Medium     75\n",
       "Name: count, dtype: int64"
      ]
     },
     "execution_count": 24,
     "metadata": {},
     "output_type": "execute_result"
    }
   ],
   "source": [
    "df['Location Sensitivity'].value_counts()"
   ]
  },
  {
   "cell_type": "markdown",
   "id": "e9e35515",
   "metadata": {},
   "source": [
    "**4. Handling Null Values in Target Type Column**"
   ]
  },
  {
   "cell_type": "code",
   "execution_count": 25,
   "id": "b329347d",
   "metadata": {},
   "outputs": [
    {
     "data": {
      "text/plain": [
       "26"
      ]
     },
     "execution_count": 25,
     "metadata": {},
     "output_type": "execute_result"
    }
   ],
   "source": [
    "df['Target Type'].isna().sum()"
   ]
  },
  {
   "cell_type": "code",
   "execution_count": 26,
   "id": "d62ab393",
   "metadata": {},
   "outputs": [
    {
     "data": {
      "text/plain": [
       "Target Type\n",
       "Military               116\n",
       "Police                 114\n",
       "Civilian                72\n",
       "Government Official     44\n",
       "Religious               36\n",
       "Anti-Militants          26\n",
       "Foreigner               14\n",
       "civilian                12\n",
       "Government official      8\n",
       "religious                7\n",
       "foreigner                3\n",
       "police                   3\n",
       "Media                    2\n",
       "Army                     2\n",
       "Shia sect                2\n",
       "Children/Women           1\n",
       "Unknown                  1\n",
       "Rangers                  1\n",
       "Police & Rangers         1\n",
       "Civilian & Police        1\n",
       "Frontier Corps           1\n",
       "advocates (lawyers)      1\n",
       "Civilian Judges          1\n",
       "Judges & lawyers         1\n",
       "Name: count, dtype: int64"
      ]
     },
     "execution_count": 26,
     "metadata": {},
     "output_type": "execute_result"
    }
   ],
   "source": [
    "df['Target Type'].value_counts()"
   ]
  },
  {
   "cell_type": "markdown",
   "id": "b5c7e4d3",
   "metadata": {},
   "source": [
    "It will be great if we replace NaN in this column randomly with top 3 categories."
   ]
  },
  {
   "cell_type": "code",
   "execution_count": 27,
   "id": "1432ead4",
   "metadata": {},
   "outputs": [],
   "source": [
    "# Find the top 3 most repeated categories\n",
    "top_categories = df['Target Type'].value_counts().head(3).index.tolist()"
   ]
  },
  {
   "cell_type": "code",
   "execution_count": 28,
   "id": "6e98a32c",
   "metadata": {},
   "outputs": [
    {
     "data": {
      "text/plain": [
       "['Military', 'Police', 'Civilian']"
      ]
     },
     "execution_count": 28,
     "metadata": {},
     "output_type": "execute_result"
    }
   ],
   "source": [
    "top_categories"
   ]
  },
  {
   "cell_type": "code",
   "execution_count": 33,
   "id": "8923d3ce",
   "metadata": {},
   "outputs": [],
   "source": [
    "# Function to fill NaN with a random choice from the top 3 categories\n",
    "def fill_nan_with_random_category(Target_Type):\n",
    "    #if we face null value in Target_Type Col\n",
    "    if pd.isna(Target_Type):\n",
    "        #replace it randomly with any entery from top_categories\n",
    "        return np.random.choice(top_categories)\n",
    "    else:\n",
    "        return Target_Type"
   ]
  },
  {
   "cell_type": "code",
   "execution_count": 34,
   "id": "d39c3f0d",
   "metadata": {},
   "outputs": [],
   "source": [
    "# Apply the function to fill NaN values\n",
    "df['Target Type'] = df['Target Type'].apply(fill_nan_with_random_category)"
   ]
  },
  {
   "cell_type": "code",
   "execution_count": 35,
   "id": "b23cefb9",
   "metadata": {},
   "outputs": [
    {
     "data": {
      "text/plain": [
       "Target Type\n",
       "Military               126\n",
       "Police                 122\n",
       "Civilian                80\n",
       "Government Official     44\n",
       "Religious               36\n",
       "Anti-Militants          26\n",
       "Foreigner               14\n",
       "civilian                12\n",
       "Government official      8\n",
       "religious                7\n",
       "foreigner                3\n",
       "police                   3\n",
       "Media                    2\n",
       "Army                     2\n",
       "Shia sect                2\n",
       "Children/Women           1\n",
       "Unknown                  1\n",
       "Rangers                  1\n",
       "Police & Rangers         1\n",
       "Civilian & Police        1\n",
       "Frontier Corps           1\n",
       "advocates (lawyers)      1\n",
       "Civilian Judges          1\n",
       "Judges & lawyers         1\n",
       "Name: count, dtype: int64"
      ]
     },
     "execution_count": 35,
     "metadata": {},
     "output_type": "execute_result"
    }
   ],
   "source": [
    "df['Target Type'].value_counts()"
   ]
  },
  {
   "cell_type": "markdown",
   "id": "80d16c5a",
   "metadata": {},
   "source": [
    "Ten Null values were filled with Military, 8 were filled with Police and 8 were filled with Civilian."
   ]
  },
  {
   "cell_type": "code",
   "execution_count": 37,
   "id": "0b8f8adf",
   "metadata": {},
   "outputs": [
    {
     "data": {
      "text/plain": [
       "0"
      ]
     },
     "execution_count": 37,
     "metadata": {},
     "output_type": "execute_result"
    }
   ],
   "source": [
    "#checking null values now.\n",
    "df['Target Type'].isna().sum()"
   ]
  },
  {
   "cell_type": "markdown",
   "id": "fc6ef1e8",
   "metadata": {},
   "source": [
    "**5. Handling Null Values of Killed max Column:**"
   ]
  },
  {
   "cell_type": "code",
   "execution_count": 39,
   "id": "3181c14e",
   "metadata": {},
   "outputs": [
    {
     "data": {
      "text/plain": [
       "16"
      ]
     },
     "execution_count": 39,
     "metadata": {},
     "output_type": "execute_result"
    }
   ],
   "source": [
    "df['Killed Max'].isna().sum()"
   ]
  },
  {
   "cell_type": "code",
   "execution_count": 42,
   "id": "beeb831a",
   "metadata": {},
   "outputs": [
    {
     "name": "stdout",
     "output_type": "stream",
     "text": [
      "Mean:  15.20625\n"
     ]
    }
   ],
   "source": [
    "#lets check mean of this column \n",
    "mean_killed_max = df['Killed Max'].mean()\n",
    "print(\"Mean: \", mean_killed_max)"
   ]
  },
  {
   "cell_type": "markdown",
   "id": "791bfe03",
   "metadata": {},
   "source": [
    "Lets replace the null values with the mean of this column"
   ]
  },
  {
   "cell_type": "code",
   "execution_count": 43,
   "id": "2111ae8d",
   "metadata": {},
   "outputs": [],
   "source": [
    "df['Killed Max'].fillna(mean_killed_max, inplace=True)"
   ]
  },
  {
   "cell_type": "code",
   "execution_count": 45,
   "id": "f57cf23a",
   "metadata": {},
   "outputs": [
    {
     "data": {
      "text/plain": [
       "0"
      ]
     },
     "execution_count": 45,
     "metadata": {},
     "output_type": "execute_result"
    }
   ],
   "source": [
    "#null values after filling\n",
    "df['Killed Max'].isna().sum()"
   ]
  },
  {
   "cell_type": "markdown",
   "id": "c4953a9d",
   "metadata": {},
   "source": [
    "**Saving this kind of cleaned dataset in CSV file**"
   ]
  },
  {
   "cell_type": "code",
   "execution_count": 47,
   "id": "614544f6",
   "metadata": {},
   "outputs": [],
   "source": [
    "df.to_csv('Cleaned_Data_of_Suicide_Attacks')"
   ]
  },
  {
   "cell_type": "code",
   "execution_count": 49,
   "id": "04bcf9e5",
   "metadata": {},
   "outputs": [
    {
     "data": {
      "text/plain": [
       "Index(['Date', 'Islamic Date', 'Blast Day Type', 'Holiday Type', 'Time',\n",
       "       'City', 'Latitude', 'Longitude', 'Province', 'Location',\n",
       "       'Location Category', 'Location Sensitivity', 'Open/Closed Space',\n",
       "       'Influencing Event/Event', 'Target Type', 'Targeted Sect if any',\n",
       "       'Killed Min', 'Killed Max', 'Injured Min', 'Injured Max',\n",
       "       'No. of Suicide Blasts', 'Explosive Weight (max)', 'Hospital Names',\n",
       "       'Temperature(C)', 'Temperature(F)'],\n",
       "      dtype='object')"
      ]
     },
     "execution_count": 49,
     "metadata": {},
     "output_type": "execute_result"
    }
   ],
   "source": [
    "df.columns"
   ]
  },
  {
   "cell_type": "markdown",
   "id": "4e0ffe64",
   "metadata": {},
   "source": [
    "# EDA and Visualization"
   ]
  },
  {
   "cell_type": "markdown",
   "id": "c5252f63",
   "metadata": {},
   "source": [
    "**Insight 1: On one what day type most of Attacks Happend?**"
   ]
  },
  {
   "cell_type": "code",
   "execution_count": 57,
   "id": "aa7b4a1f",
   "metadata": {},
   "outputs": [
    {
     "data": {
      "text/plain": [
       "Blast Day Type\n",
       "Working Day    403\n",
       "Holiday         78\n",
       "Weekend          5\n",
       "Name: count, dtype: int64"
      ]
     },
     "execution_count": 57,
     "metadata": {},
     "output_type": "execute_result"
    }
   ],
   "source": [
    "#finding the Category of Blast Day Type with max value\n",
    "df['Blast Day Type'].value_counts()"
   ]
  },
  {
   "cell_type": "markdown",
   "id": "dded608e",
   "metadata": {},
   "source": [
    "Visualizing the Values"
   ]
  },
  {
   "cell_type": "code",
   "execution_count": 77,
   "id": "ad29fb39",
   "metadata": {},
   "outputs": [
    {
     "data": {
      "image/png": "[encoded data removed]",
      "text/plain": [
       "<Figure size 640x480 with 1 Axes>"
      ]
     },
     "metadata": {},
     "output_type": "display_data"
    }
   ],
   "source": [
    "#We will use Count Plot to count occurance of each category that will give us count of Attacks in each Day Type\n",
    "sns.countplot(data= df, x= df['Blast Day Type']);\n",
    "plt.xlabel('Day Type')\n",
    "plt.ylabel('Number of Blast Attacks')\n",
    "#writing the Number on the Bars\n",
    "#for Highest Number\n",
    "plt.text(x = 0.90, y = df['Blast Day Type'].value_counts()[0]+2, s = df['Blast Day Type'].value_counts()[0])\n",
    "\n",
    "#second one\n",
    "plt.text(x = 0.005, y = df['Blast Day Type'].value_counts()[1]+2, s = df['Blast Day Type'].value_counts()[1])\n",
    "\n",
    "#third one\n",
    "plt.text(x = 2, y = df['Blast Day Type'].value_counts()[2]+2, s = df['Blast Day Type'].value_counts()[2])\n",
    "\n",
    "plt.show()"
   ]
  },
  {
   "cell_type": "markdown",
   "id": "254cfff1",
   "metadata": {},
   "source": [
    "**So, the most number of Attacks Happened on a Working Day.**"
   ]
  },
  {
   "cell_type": "markdown",
   "id": "ec4a7505",
   "metadata": {},
   "source": [
    "**Insight 2: Which Province was Attacked most number of Times?**"
   ]
  },
  {
   "cell_type": "code",
   "execution_count": 78,
   "id": "b40206b8",
   "metadata": {},
   "outputs": [
    {
     "data": {
      "text/plain": [
       "Province\n",
       "KPK            251\n",
       "FATA            70\n",
       "Punjab          64\n",
       "Sindh           35\n",
       "Baluchistan     31\n",
       "Capital         20\n",
       "Balochistan     16\n",
       "AJK              6\n",
       "Fata             3\n",
       "Name: count, dtype: int64"
      ]
     },
     "execution_count": 78,
     "metadata": {},
     "output_type": "execute_result"
    }
   ],
   "source": [
    "df['Province'].value_counts()"
   ]
  },
  {
   "cell_type": "code",
   "execution_count": 80,
   "id": "4cc4f8a8",
   "metadata": {},
   "outputs": [],
   "source": [
    "#making Fata as FATA\n",
    "df['Province'].replace({'Fata':'FATA'}, inplace=True)\n",
    "#making Baluchistan as Balochistan\n",
    "df['Province'].replace({'Baluchistan':'Balochistan'}, inplace=True)"
   ]
  },
  {
   "cell_type": "code",
   "execution_count": 81,
   "id": "5f5c1859",
   "metadata": {},
   "outputs": [
    {
     "data": {
      "text/plain": [
       "Province\n",
       "KPK            251\n",
       "FATA            73\n",
       "Punjab          64\n",
       "Balochistan     47\n",
       "Sindh           35\n",
       "Capital         20\n",
       "AJK              6\n",
       "Name: count, dtype: int64"
      ]
     },
     "execution_count": 81,
     "metadata": {},
     "output_type": "execute_result"
    }
   ],
   "source": [
    "df['Province'].value_counts()"
   ]
  },
  {
   "cell_type": "code",
   "execution_count": 104,
   "id": "8f63c665",
   "metadata": {},
   "outputs": [
    {
     "data": {
      "image/png": "[encoded data removed]",
      "text/plain": [
       "<Figure size 640x480 with 1 Axes>"
      ]
     },
     "metadata": {},
     "output_type": "display_data"
    }
   ],
   "source": [
    "#We will use Count Plot to count occurance of each category that will give us count of Attacks in each Day Type\n",
    "sns.countplot(data= df, x= df['Province']);\n",
    "plt.xlabel('Province Name')\n",
    "plt.ylabel('Number of Blast Attacks')\n",
    "#writing the Number on the Bars\n",
    "#for Highest Number-->KPK\n",
    "plt.text(x = 4.7, y = df['Province'].value_counts()[0]+2, s = df['Province'].value_counts()[0])\n",
    "\n",
    "#second-->Fata\n",
    "plt.text(x = 3.9, y = df['Province'].value_counts()[1]+2, s = df['Province'].value_counts()[1])\n",
    "\n",
    "#third-->Punjab\n",
    "plt.text(x = 2.8, y = df['Province'].value_counts()[2]+2, s = df['Province'].value_counts()[2])\n",
    "\n",
    "#Fourth-->Balochistan\n",
    "plt.text(x = 1.8, y = df['Province'].value_counts()[3]+2, s = df['Province'].value_counts()[3])\n",
    "\n",
    "#Fifth-->Sindh\n",
    "plt.text(x = 0.9, y = df['Province'].value_counts()[4]+2, s = df['Province'].value_counts()[4])\n",
    "\n",
    "#Sixth-->Capital\n",
    "plt.text(x = 0.02, y = df['Province'].value_counts()[5]+2, s = df['Province'].value_counts()[5])\n",
    "\n",
    "\n",
    "#AJK\n",
    "plt.text(x = 6, y = df['Province'].value_counts()[6]+2, s = df['Province'].value_counts()[6])\n",
    "\n",
    "plt.show()"
   ]
  },
  {
   "cell_type": "markdown",
   "id": "8920ec8f",
   "metadata": {},
   "source": [
    "**KPK is on Top with maximum numbers of Bomb Blast Attacks.**"
   ]
  },
  {
   "cell_type": "markdown",
   "id": "3795424c",
   "metadata": {},
   "source": [
    "**Insight 3: Top 10 Cities Where Most Number of Attacks Happened?**"
   ]
  },
  {
   "cell_type": "code",
   "execution_count": 122,
   "id": "5d7bf9b6",
   "metadata": {
    "scrolled": false
   },
   "outputs": [],
   "source": [
    "top_10_most_attacked_cities = df['City'].value_counts().head(10)\n",
    "# Convert the result to a DataFrame\n",
    "top_10_most_attacked_cities = pd.DataFrame({'City': top_10_most_attacked_cities.index, 'Count': top_10_most_attacked_cities.values})"
   ]
  },
  {
   "cell_type": "code",
   "execution_count": 123,
   "id": "7ba2d184",
   "metadata": {},
   "outputs": [
    {
     "data": {
      "text/html": [
       "<div>\n",
       "<style scoped>\n",
       "    .dataframe tbody tr th:only-of-type {\n",
       "        vertical-align: middle;\n",
       "    }\n",
       "\n",
       "    .dataframe tbody tr th {\n",
       "        vertical-align: top;\n",
       "    }\n",
       "\n",
       "    .dataframe thead th {\n",
       "        text-align: right;\n",
       "    }\n",
       "</style>\n",
       "<table border=\"1\" class=\"dataframe\">\n",
       "  <thead>\n",
       "    <tr style=\"text-align: right;\">\n",
       "      <th></th>\n",
       "      <th>City</th>\n",
       "      <th>Count</th>\n",
       "    </tr>\n",
       "  </thead>\n",
       "  <tbody>\n",
       "    <tr>\n",
       "      <th>0</th>\n",
       "      <td>Peshawar</td>\n",
       "      <td>72</td>\n",
       "    </tr>\n",
       "    <tr>\n",
       "      <th>1</th>\n",
       "      <td>Quetta</td>\n",
       "      <td>35</td>\n",
       "    </tr>\n",
       "    <tr>\n",
       "      <th>2</th>\n",
       "      <td>Swat</td>\n",
       "      <td>25</td>\n",
       "    </tr>\n",
       "    <tr>\n",
       "      <th>3</th>\n",
       "      <td>Bannu</td>\n",
       "      <td>22</td>\n",
       "    </tr>\n",
       "    <tr>\n",
       "      <th>4</th>\n",
       "      <td>Karachi</td>\n",
       "      <td>21</td>\n",
       "    </tr>\n",
       "    <tr>\n",
       "      <th>5</th>\n",
       "      <td>Rawalpindi</td>\n",
       "      <td>19</td>\n",
       "    </tr>\n",
       "    <tr>\n",
       "      <th>6</th>\n",
       "      <td>Islamabad</td>\n",
       "      <td>17</td>\n",
       "    </tr>\n",
       "    <tr>\n",
       "      <th>7</th>\n",
       "      <td>Hangu</td>\n",
       "      <td>17</td>\n",
       "    </tr>\n",
       "    <tr>\n",
       "      <th>8</th>\n",
       "      <td>Khyber Agency</td>\n",
       "      <td>14</td>\n",
       "    </tr>\n",
       "    <tr>\n",
       "      <th>9</th>\n",
       "      <td>Lahore</td>\n",
       "      <td>14</td>\n",
       "    </tr>\n",
       "  </tbody>\n",
       "</table>\n",
       "</div>"
      ],
      "text/plain": [
       "            City  Count\n",
       "0       Peshawar     72\n",
       "1         Quetta     35\n",
       "2           Swat     25\n",
       "3          Bannu     22\n",
       "4        Karachi     21\n",
       "5     Rawalpindi     19\n",
       "6      Islamabad     17\n",
       "7          Hangu     17\n",
       "8  Khyber Agency     14\n",
       "9         Lahore     14"
      ]
     },
     "execution_count": 123,
     "metadata": {},
     "output_type": "execute_result"
    }
   ],
   "source": [
    "top_10_most_attacked_cities"
   ]
  },
  {
   "cell_type": "code",
   "execution_count": 127,
   "id": "a875efa1",
   "metadata": {},
   "outputs": [
    {
     "data": {
      "image/png": "[encoded data removed]",
      "text/plain": [
       "<Figure size 2000x1000 with 1 Axes>"
      ]
     },
     "metadata": {},
     "output_type": "display_data"
    }
   ],
   "source": [
    "#We will use Count Plot to count occurance of each category that will give us count of Attacks in each Day Type\n",
    "plt.figure(figsize=(20,10))\n",
    "sns.barplot(data= df, \n",
    "            x= top_10_most_attacked_cities['City'],\n",
    "            y= top_10_most_attacked_cities['Count']);\n",
    "plt.xlabel('City Name')\n",
    "plt.ylabel('Number of Blast Attacks')\n",
    "plt.show()"
   ]
  },
  {
   "cell_type": "markdown",
   "id": "f0faf24a",
   "metadata": {},
   "source": [
    "**Peshawar was most attacked City with 72 number of Suicide Bomb Attacks**"
   ]
  },
  {
   "cell_type": "markdown",
   "id": "12070dc9",
   "metadata": {},
   "source": [
    "**Insight 4: Most Targeted Location Types?**"
   ]
  },
  {
   "cell_type": "code",
   "execution_count": 143,
   "id": "536b8e19",
   "metadata": {},
   "outputs": [],
   "source": [
    "most_targeted_locations = df['Location Category'].value_counts().head(5)\n",
    "# Convert the result to a DataFrame\n",
    "most_targeted_locations = pd.DataFrame({'Location Type': most_targeted_locations.index, 'Count': most_targeted_locations.values})"
   ]
  },
  {
   "cell_type": "code",
   "execution_count": 144,
   "id": "6a864a96",
   "metadata": {},
   "outputs": [
    {
     "data": {
      "text/html": [
       "<div>\n",
       "<style scoped>\n",
       "    .dataframe tbody tr th:only-of-type {\n",
       "        vertical-align: middle;\n",
       "    }\n",
       "\n",
       "    .dataframe tbody tr th {\n",
       "        vertical-align: top;\n",
       "    }\n",
       "\n",
       "    .dataframe thead th {\n",
       "        text-align: right;\n",
       "    }\n",
       "</style>\n",
       "<table border=\"1\" class=\"dataframe\">\n",
       "  <thead>\n",
       "    <tr style=\"text-align: right;\">\n",
       "      <th></th>\n",
       "      <th>Location Type</th>\n",
       "      <th>Count</th>\n",
       "    </tr>\n",
       "  </thead>\n",
       "  <tbody>\n",
       "    <tr>\n",
       "      <th>0</th>\n",
       "      <td>Police</td>\n",
       "      <td>92</td>\n",
       "    </tr>\n",
       "    <tr>\n",
       "      <th>1</th>\n",
       "      <td>Mobile</td>\n",
       "      <td>70</td>\n",
       "    </tr>\n",
       "    <tr>\n",
       "      <th>2</th>\n",
       "      <td>Military</td>\n",
       "      <td>70</td>\n",
       "    </tr>\n",
       "    <tr>\n",
       "      <th>3</th>\n",
       "      <td>Religious</td>\n",
       "      <td>57</td>\n",
       "    </tr>\n",
       "    <tr>\n",
       "      <th>4</th>\n",
       "      <td>Market</td>\n",
       "      <td>40</td>\n",
       "    </tr>\n",
       "  </tbody>\n",
       "</table>\n",
       "</div>"
      ],
      "text/plain": [
       "  Location Type  Count\n",
       "0        Police     92\n",
       "1        Mobile     70\n",
       "2      Military     70\n",
       "3     Religious     57\n",
       "4        Market     40"
      ]
     },
     "execution_count": 144,
     "metadata": {},
     "output_type": "execute_result"
    }
   ],
   "source": [
    "most_targeted_locations"
   ]
  },
  {
   "cell_type": "code",
   "execution_count": 312,
   "id": "78607c8f",
   "metadata": {},
   "outputs": [
    {
     "data": {
      "image/png": "[encoded data removed]",
      "text/plain": [
       "<Figure size 640x480 with 1 Axes>"
      ]
     },
     "metadata": {},
     "output_type": "display_data"
    }
   ],
   "source": [
    "plt.pie(most_targeted_locations['Count'], labels=most_targeted_locations['Location Type'], autopct='%1.1f%%', startangle=140)\n",
    "plt.show()"
   ]
  },
  {
   "cell_type": "markdown",
   "id": "d7aa6f9b",
   "metadata": {},
   "source": [
    "**Most attack Location Type was related Police Department.**"
   ]
  },
  {
   "cell_type": "markdown",
   "id": "e69686bc",
   "metadata": {},
   "source": [
    "**Insight 4: Number of Time High, Medium and Low Location where Targeted and in which Province those Location where targeted?**"
   ]
  },
  {
   "cell_type": "code",
   "execution_count": 165,
   "id": "edee3320",
   "metadata": {},
   "outputs": [
    {
     "data": {
      "image/png": "[encoded data removed]",
      "text/plain": [
       "<Figure size 640x480 with 1 Axes>"
      ]
     },
     "metadata": {},
     "output_type": "display_data"
    }
   ],
   "source": [
    "sns.countplot(x= 'Location Sensitivity', \n",
    "              data= df, \n",
    "              hue= 'Province')\n",
    "plt.xlabel('Bomb Blast Location Sentivity')\n",
    "plt.ylabel('Number of Bomb Blast')\n",
    "\n",
    "plt.show()"
   ]
  },
  {
   "cell_type": "code",
   "execution_count": 146,
   "id": "4ca547e1",
   "metadata": {},
   "outputs": [
    {
     "data": {
      "text/plain": [
       "Location Sensitivity\n",
       "High      300\n",
       "Low       121\n",
       "Medium     75\n",
       "Name: count, dtype: int64"
      ]
     },
     "execution_count": 146,
     "metadata": {},
     "output_type": "execute_result"
    }
   ],
   "source": [
    "df['Location Sensitivity'].value_counts()"
   ]
  },
  {
   "cell_type": "code",
   "execution_count": 156,
   "id": "bea1b23a",
   "metadata": {},
   "outputs": [
    {
     "data": {
      "image/png": "[encoded data removed]",
      "text/plain": [
       "<Figure size 640x480 with 1 Axes>"
      ]
     },
     "metadata": {},
     "output_type": "display_data"
    }
   ],
   "source": [
    "sns.countplot(data= df, x= df['Location Sensitivity']);\n",
    "plt.xlabel('Location Senstivity')\n",
    "plt.ylabel('Number of Blast Attacks')\n",
    "#writing the Number on the Bars\n",
    "#for Highest Number\n",
    "plt.text(x = 0.02, y = df['Location Sensitivity'].value_counts()[0]+2, s = df['Location Sensitivity'].value_counts()[0])\n",
    "\n",
    "#second one\n",
    "plt.text(x = 1, y = df['Location Sensitivity'].value_counts()[1]+2, s = df['Location Sensitivity'].value_counts()[1])\n",
    "\n",
    "#third one\n",
    "plt.text(x = 2, y = df['Location Sensitivity'].value_counts()[2]+2, s = df['Location Sensitivity'].value_counts()[2])\n",
    "\n",
    "plt.show()"
   ]
  },
  {
   "cell_type": "markdown",
   "id": "998305b6",
   "metadata": {},
   "source": [
    "**Most Attacks were Targetting High Sensitive Location**"
   ]
  },
  {
   "cell_type": "markdown",
   "id": "770644c1",
   "metadata": {},
   "source": [
    "**Insight 5: Most Targetted Part of Society in Pakistan?**"
   ]
  },
  {
   "cell_type": "code",
   "execution_count": 160,
   "id": "bf7f8598",
   "metadata": {},
   "outputs": [],
   "source": [
    "sorted_df_wrt_target_type\n",
    "most_targetted_parts = df['Target Type'].value_counts().head(5)\n",
    "most_targetted_parts = pd.DataFrame({'Target Type': most_targetted_parts.index, 'Count': most_targetted_parts.values})"
   ]
  },
  {
   "cell_type": "code",
   "execution_count": 161,
   "id": "1ded3c9a",
   "metadata": {},
   "outputs": [
    {
     "data": {
      "text/html": [
       "<div>\n",
       "<style scoped>\n",
       "    .dataframe tbody tr th:only-of-type {\n",
       "        vertical-align: middle;\n",
       "    }\n",
       "\n",
       "    .dataframe tbody tr th {\n",
       "        vertical-align: top;\n",
       "    }\n",
       "\n",
       "    .dataframe thead th {\n",
       "        text-align: right;\n",
       "    }\n",
       "</style>\n",
       "<table border=\"1\" class=\"dataframe\">\n",
       "  <thead>\n",
       "    <tr style=\"text-align: right;\">\n",
       "      <th></th>\n",
       "      <th>Target Type</th>\n",
       "      <th>Count</th>\n",
       "    </tr>\n",
       "  </thead>\n",
       "  <tbody>\n",
       "    <tr>\n",
       "      <th>0</th>\n",
       "      <td>Military</td>\n",
       "      <td>126</td>\n",
       "    </tr>\n",
       "    <tr>\n",
       "      <th>1</th>\n",
       "      <td>Police</td>\n",
       "      <td>122</td>\n",
       "    </tr>\n",
       "    <tr>\n",
       "      <th>2</th>\n",
       "      <td>Civilian</td>\n",
       "      <td>80</td>\n",
       "    </tr>\n",
       "    <tr>\n",
       "      <th>3</th>\n",
       "      <td>Government Official</td>\n",
       "      <td>44</td>\n",
       "    </tr>\n",
       "    <tr>\n",
       "      <th>4</th>\n",
       "      <td>Religious</td>\n",
       "      <td>36</td>\n",
       "    </tr>\n",
       "  </tbody>\n",
       "</table>\n",
       "</div>"
      ],
      "text/plain": [
       "           Target Type  Count\n",
       "0             Military    126\n",
       "1               Police    122\n",
       "2             Civilian     80\n",
       "3  Government Official     44\n",
       "4            Religious     36"
      ]
     },
     "execution_count": 161,
     "metadata": {},
     "output_type": "execute_result"
    }
   ],
   "source": [
    "most_targetted_parts"
   ]
  },
  {
   "cell_type": "code",
   "execution_count": 170,
   "id": "b213e20d",
   "metadata": {},
   "outputs": [
    {
     "data": {
      "image/png": "[encoded data removed]",
      "text/plain": [
       "<Figure size 1500x1000 with 1 Axes>"
      ]
     },
     "metadata": {},
     "output_type": "display_data"
    }
   ],
   "source": [
    "plt.figure(figsize=(15,10))\n",
    "plt.bar(most_targetted_parts['Target Type'],\n",
    "           most_targetted_parts['Count'],\n",
    "           color = 'y')\n",
    "plt.xlabel('Bomb Blast Target Type')\n",
    "plt.ylabel('Number of Time Specigfic Target was Considered')\n",
    "\n",
    "plt.show()"
   ]
  },
  {
   "cell_type": "markdown",
   "id": "081ce4a7",
   "metadata": {},
   "source": [
    "**Mostly Military Sector was Targeted in the Bomb Blasts**"
   ]
  },
  {
   "cell_type": "code",
   "execution_count": 173,
   "id": "08e2a7a3",
   "metadata": {},
   "outputs": [
    {
     "data": {
      "text/plain": [
       "Index(['Date', 'Islamic Date', 'Blast Day Type', 'Holiday Type', 'Time',\n",
       "       'City', 'Latitude', 'Longitude', 'Province', 'Location',\n",
       "       'Location Category', 'Location Sensitivity', 'Open/Closed Space',\n",
       "       'Influencing Event/Event', 'Target Type', 'Targeted Sect if any',\n",
       "       'Killed Min', 'Killed Max', 'Injured Min', 'Injured Max',\n",
       "       'No. of Suicide Blasts', 'Explosive Weight (max)', 'Hospital Names',\n",
       "       'Temperature(C)', 'Temperature(F)'],\n",
       "      dtype='object')"
      ]
     },
     "execution_count": 173,
     "metadata": {},
     "output_type": "execute_result"
    }
   ],
   "source": [
    "df.columns"
   ]
  },
  {
   "cell_type": "markdown",
   "id": "d55ffe2e",
   "metadata": {},
   "source": [
    "**Insight 6: Top 3 Bomb Blast in which most people were Killed?**"
   ]
  },
  {
   "cell_type": "code",
   "execution_count": 201,
   "id": "20944d3a",
   "metadata": {},
   "outputs": [],
   "source": [
    "#lets sort the dataframe by Killed max column to get top 3 firstly\n",
    "df_sorted_killedmax = df.sort_values(by= 'Killed Max', ascending=False).head(3)"
   ]
  },
  {
   "cell_type": "code",
   "execution_count": 209,
   "id": "61a4e99f",
   "metadata": {},
   "outputs": [
    {
     "data": {
      "text/html": [
       "<div>\n",
       "<style scoped>\n",
       "    .dataframe tbody tr th:only-of-type {\n",
       "        vertical-align: middle;\n",
       "    }\n",
       "\n",
       "    .dataframe tbody tr th {\n",
       "        vertical-align: top;\n",
       "    }\n",
       "\n",
       "    .dataframe thead th {\n",
       "        text-align: right;\n",
       "    }\n",
       "</style>\n",
       "<table border=\"1\" class=\"dataframe\">\n",
       "  <thead>\n",
       "    <tr style=\"text-align: right;\">\n",
       "      <th></th>\n",
       "      <th>Killed Max</th>\n",
       "      <th>City</th>\n",
       "      <th>Location</th>\n",
       "    </tr>\n",
       "  </thead>\n",
       "  <tbody>\n",
       "    <tr>\n",
       "      <th>434</th>\n",
       "      <td>148.0</td>\n",
       "      <td>Peshawar</td>\n",
       "      <td>Army Public School</td>\n",
       "    </tr>\n",
       "    <tr>\n",
       "      <th>68</th>\n",
       "      <td>145.0</td>\n",
       "      <td>karachi</td>\n",
       "      <td>Benazir Survives midnight \\ncarnage Karsaz bri...</td>\n",
       "    </tr>\n",
       "    <tr>\n",
       "      <th>113</th>\n",
       "      <td>100.0</td>\n",
       "      <td>Rawalpindi</td>\n",
       "      <td>Wah Cant Pakistn Ordinance Factories</td>\n",
       "    </tr>\n",
       "  </tbody>\n",
       "</table>\n",
       "</div>"
      ],
      "text/plain": [
       "     Killed Max        City                                           Location\n",
       "434       148.0    Peshawar                                 Army Public School\n",
       "68        145.0    karachi   Benazir Survives midnight \\ncarnage Karsaz bri...\n",
       "113       100.0  Rawalpindi              Wah Cant Pakistn Ordinance Factories "
      ]
     },
     "execution_count": 209,
     "metadata": {},
     "output_type": "execute_result"
    }
   ],
   "source": [
    "df_sorted_killedmax[['Killed Max', 'City', 'Location']]"
   ]
  },
  {
   "cell_type": "markdown",
   "id": "0ee79dad",
   "metadata": {},
   "source": [
    "Lets Visualize the graph that will represent Highest Max People Killed in any one blast with Location and City."
   ]
  },
  {
   "cell_type": "code",
   "execution_count": 210,
   "id": "e3510562",
   "metadata": {},
   "outputs": [
    {
     "data": {
      "image/png": "[encoded data removed]",
      "text/plain": [
       "<Figure size 1000x400 with 1 Axes>"
      ]
     },
     "metadata": {},
     "output_type": "display_data"
    }
   ],
   "source": [
    "plt.figure(figsize=(10,4))\n",
    "sns.barplot(data = df_sorted_killedmax,\n",
    "           x = 'Location', \n",
    "           y = 'Killed Max',\n",
    "           hue = 'City')\n",
    "\n",
    "plt.xlabel('Location')\n",
    "plt.ylabel('Number of People Killed')\n",
    "plt.show()"
   ]
  },
  {
   "cell_type": "markdown",
   "id": "875e18fb",
   "metadata": {},
   "source": [
    "**Highest Number of People killed in one Attack was in Peshawar**"
   ]
  },
  {
   "cell_type": "markdown",
   "id": "12ecbff9",
   "metadata": {},
   "source": [
    "**Insgiht 7: Total Number of People Killed in every City by Bomb Attacks?**\n",
    "\n",
    "We will use groupby to group City with Killed max and we will sum Killed Max."
   ]
  },
  {
   "cell_type": "code",
   "execution_count": 184,
   "id": "af249752",
   "metadata": {},
   "outputs": [],
   "source": [
    "number_of_people_killed_in_every_city = df.groupby('City', as_index=False)['Killed Max'].sum()"
   ]
  },
  {
   "cell_type": "code",
   "execution_count": 187,
   "id": "9622c099",
   "metadata": {},
   "outputs": [],
   "source": [
    "#now lets sort that dataset to get cities where most number of people were killed in total attacks\n",
    "number_of_people_killed_in_every_city.sort_values(by= 'Killed Max', \n",
    "                                                  inplace=True,\n",
    "                                                 ascending=False)"
   ]
  },
  {
   "cell_type": "code",
   "execution_count": 192,
   "id": "2313e908",
   "metadata": {},
   "outputs": [
    {
     "data": {
      "text/html": [
       "<div>\n",
       "<style scoped>\n",
       "    .dataframe tbody tr th:only-of-type {\n",
       "        vertical-align: middle;\n",
       "    }\n",
       "\n",
       "    .dataframe tbody tr th {\n",
       "        vertical-align: top;\n",
       "    }\n",
       "\n",
       "    .dataframe thead th {\n",
       "        text-align: right;\n",
       "    }\n",
       "</style>\n",
       "<table border=\"1\" class=\"dataframe\">\n",
       "  <thead>\n",
       "    <tr style=\"text-align: right;\">\n",
       "      <th></th>\n",
       "      <th>City</th>\n",
       "      <th>Killed Max</th>\n",
       "    </tr>\n",
       "  </thead>\n",
       "  <tbody>\n",
       "    <tr>\n",
       "      <th>61</th>\n",
       "      <td>Quetta</td>\n",
       "      <td>886.20625</td>\n",
       "    </tr>\n",
       "    <tr>\n",
       "      <th>57</th>\n",
       "      <td>Peshawar</td>\n",
       "      <td>881.41250</td>\n",
       "    </tr>\n",
       "    <tr>\n",
       "      <th>63</th>\n",
       "      <td>Rawalpindi</td>\n",
       "      <td>381.00000</td>\n",
       "    </tr>\n",
       "    <tr>\n",
       "      <th>38</th>\n",
       "      <td>Lahore</td>\n",
       "      <td>336.00000</td>\n",
       "    </tr>\n",
       "  </tbody>\n",
       "</table>\n",
       "</div>"
      ],
      "text/plain": [
       "          City  Killed Max\n",
       "61      Quetta   886.20625\n",
       "57    Peshawar   881.41250\n",
       "63  Rawalpindi   381.00000\n",
       "38     Lahore    336.00000"
      ]
     },
     "execution_count": 192,
     "metadata": {},
     "output_type": "execute_result"
    }
   ],
   "source": [
    "top_4 = number_of_people_killed_in_every_city.head(4)\n",
    "top_4"
   ]
  },
  {
   "cell_type": "markdown",
   "id": "2c9d8b38",
   "metadata": {},
   "source": [
    "Visualization:"
   ]
  },
  {
   "cell_type": "code",
   "execution_count": 195,
   "id": "72de25a9",
   "metadata": {},
   "outputs": [
    {
     "data": {
      "image/png": "[encoded data removed]",
      "text/plain": [
       "<Figure size 640x480 with 1 Axes>"
      ]
     },
     "metadata": {},
     "output_type": "display_data"
    }
   ],
   "source": [
    "sns.barplot(data = top_4,\n",
    "            x = 'City', \n",
    "            y= 'Killed Max')\n",
    "plt.xlabel('City')\n",
    "plt.ylabel('Total Number of people Killed by Suicide Bomb Attacks')\n",
    "plt.show()"
   ]
  },
  {
   "cell_type": "markdown",
   "id": "a64fa969",
   "metadata": {},
   "source": [
    "**Most Total Number of People Killed (according to max killed column) in any City with Bomb Blast were in Quetta**"
   ]
  },
  {
   "cell_type": "markdown",
   "id": "2752b365",
   "metadata": {},
   "source": [
    "**Insight 8: How many Bomb Blast Happened Every year?**"
   ]
  },
  {
   "cell_type": "code",
   "execution_count": 219,
   "id": "100a5f11",
   "metadata": {},
   "outputs": [
    {
     "name": "stdout",
     "output_type": "stream",
     "text": [
      "<class 'pandas.core.frame.DataFrame'>\n",
      "RangeIndex: 496 entries, 0 to 495\n",
      "Data columns (total 25 columns):\n",
      " #   Column                   Non-Null Count  Dtype  \n",
      "---  ------                   --------------  -----  \n",
      " 0   Date                     496 non-null    object \n",
      " 1   Islamic Date             342 non-null    object \n",
      " 2   Blast Day Type           486 non-null    object \n",
      " 3   Holiday Type             72 non-null     object \n",
      " 4   Time                     285 non-null    object \n",
      " 5   City                     496 non-null    object \n",
      " 6   Latitude                 493 non-null    float64\n",
      " 7   Longitude                493 non-null    object \n",
      " 8   Province                 496 non-null    object \n",
      " 9   Location                 493 non-null    object \n",
      " 10  Location Category        496 non-null    object \n",
      " 11  Location Sensitivity     496 non-null    object \n",
      " 12  Open/Closed Space        461 non-null    object \n",
      " 13  Influencing Event/Event  191 non-null    object \n",
      " 14  Target Type              496 non-null    object \n",
      " 15  Targeted Sect if any     97 non-null     object \n",
      " 16  Killed Min               350 non-null    float64\n",
      " 17  Killed Max               496 non-null    float64\n",
      " 18  Injured Min              365 non-null    float64\n",
      " 19  Injured Max              464 non-null    object \n",
      " 20  No. of Suicide Blasts    414 non-null    float64\n",
      " 21  Explosive Weight (max)   172 non-null    object \n",
      " 22  Hospital Names           297 non-null    object \n",
      " 23  Temperature(C)           491 non-null    float64\n",
      " 24  Temperature(F)           489 non-null    float64\n",
      "dtypes: float64(7), object(18)\n",
      "memory usage: 97.0+ KB\n"
     ]
    }
   ],
   "source": [
    "df.info()"
   ]
  },
  {
   "cell_type": "code",
   "execution_count": 222,
   "id": "3178f557",
   "metadata": {},
   "outputs": [],
   "source": [
    "#creating Year Column\n",
    "df['Year'] = df['Date'].str.split('-').str[-1]"
   ]
  },
  {
   "cell_type": "code",
   "execution_count": 227,
   "id": "9564b2fc",
   "metadata": {},
   "outputs": [],
   "source": [
    "Total_Blast_in_every_year = df['Year'].value_counts()\n",
    "Total_Blast_in_every_year = pd.DataFrame({'Year': Total_Blast_in_every_year.index, 'Count': Total_Blast_in_every_year.values})"
   ]
  },
  {
   "cell_type": "code",
   "execution_count": 229,
   "id": "b0ffafc3",
   "metadata": {},
   "outputs": [
    {
     "data": {
      "text/html": [
       "<div>\n",
       "<style scoped>\n",
       "    .dataframe tbody tr th:only-of-type {\n",
       "        vertical-align: middle;\n",
       "    }\n",
       "\n",
       "    .dataframe tbody tr th {\n",
       "        vertical-align: top;\n",
       "    }\n",
       "\n",
       "    .dataframe thead th {\n",
       "        text-align: right;\n",
       "    }\n",
       "</style>\n",
       "<table border=\"1\" class=\"dataframe\">\n",
       "  <thead>\n",
       "    <tr style=\"text-align: right;\">\n",
       "      <th></th>\n",
       "      <th>Year</th>\n",
       "      <th>Count</th>\n",
       "    </tr>\n",
       "  </thead>\n",
       "  <tbody>\n",
       "    <tr>\n",
       "      <th>0</th>\n",
       "      <td>2009</td>\n",
       "      <td>90</td>\n",
       "    </tr>\n",
       "    <tr>\n",
       "      <th>1</th>\n",
       "      <td>2008</td>\n",
       "      <td>61</td>\n",
       "    </tr>\n",
       "    <tr>\n",
       "      <th>2</th>\n",
       "      <td>2010</td>\n",
       "      <td>57</td>\n",
       "    </tr>\n",
       "    <tr>\n",
       "      <th>3</th>\n",
       "      <td>2007</td>\n",
       "      <td>57</td>\n",
       "    </tr>\n",
       "  </tbody>\n",
       "</table>\n",
       "</div>"
      ],
      "text/plain": [
       "   Year  Count\n",
       "0  2009     90\n",
       "1  2008     61\n",
       "2  2010     57\n",
       "3  2007     57"
      ]
     },
     "execution_count": 229,
     "metadata": {},
     "output_type": "execute_result"
    }
   ],
   "source": [
    "Total_Blast_in_every_year.head(4)"
   ]
  },
  {
   "cell_type": "code",
   "execution_count": 232,
   "id": "9c44e173",
   "metadata": {},
   "outputs": [
    {
     "data": {
      "image/png": "[encoded data removed]",
      "text/plain": [
       "<Figure size 1000x500 with 1 Axes>"
      ]
     },
     "metadata": {},
     "output_type": "display_data"
    }
   ],
   "source": [
    "plt.figure(figsize=(10,5))\n",
    "sns.barplot(data = Total_Blast_in_every_year,\n",
    "           x= 'Year',\n",
    "           y= 'Count')\n",
    "plt.xlabel('Year')\n",
    "plt.ylabel('Total Number of Blasts')\n",
    "plt.show()"
   ]
  },
  {
   "cell_type": "markdown",
   "id": "4a95d833",
   "metadata": {},
   "source": [
    "**Highest Total Number of Blasts Happened in 2009**"
   ]
  },
  {
   "cell_type": "markdown",
   "id": "9738808e",
   "metadata": {},
   "source": [
    "**Insight 9: How Number of Blast Vary with every Year?**"
   ]
  },
  {
   "cell_type": "code",
   "execution_count": 234,
   "id": "754fd0d1",
   "metadata": {},
   "outputs": [],
   "source": [
    "sorted_Year = Total_Blast_in_every_year.sort_values(by= 'Year')"
   ]
  },
  {
   "cell_type": "code",
   "execution_count": 235,
   "id": "16f7076d",
   "metadata": {},
   "outputs": [
    {
     "data": {
      "text/html": [
       "<div>\n",
       "<style scoped>\n",
       "    .dataframe tbody tr th:only-of-type {\n",
       "        vertical-align: middle;\n",
       "    }\n",
       "\n",
       "    .dataframe tbody tr th {\n",
       "        vertical-align: top;\n",
       "    }\n",
       "\n",
       "    .dataframe thead th {\n",
       "        text-align: right;\n",
       "    }\n",
       "</style>\n",
       "<table border=\"1\" class=\"dataframe\">\n",
       "  <thead>\n",
       "    <tr style=\"text-align: right;\">\n",
       "      <th></th>\n",
       "      <th>Year</th>\n",
       "      <th>Count</th>\n",
       "    </tr>\n",
       "  </thead>\n",
       "  <tbody>\n",
       "    <tr>\n",
       "      <th>17</th>\n",
       "      <td>1995</td>\n",
       "      <td>1</td>\n",
       "    </tr>\n",
       "    <tr>\n",
       "      <th>16</th>\n",
       "      <td>2000</td>\n",
       "      <td>1</td>\n",
       "    </tr>\n",
       "    <tr>\n",
       "      <th>15</th>\n",
       "      <td>2002</td>\n",
       "      <td>2</td>\n",
       "    </tr>\n",
       "    <tr>\n",
       "      <th>14</th>\n",
       "      <td>2003</td>\n",
       "      <td>2</td>\n",
       "    </tr>\n",
       "    <tr>\n",
       "      <th>12</th>\n",
       "      <td>2004</td>\n",
       "      <td>8</td>\n",
       "    </tr>\n",
       "    <tr>\n",
       "      <th>13</th>\n",
       "      <td>2005</td>\n",
       "      <td>4</td>\n",
       "    </tr>\n",
       "    <tr>\n",
       "      <th>11</th>\n",
       "      <td>2006</td>\n",
       "      <td>9</td>\n",
       "    </tr>\n",
       "    <tr>\n",
       "      <th>3</th>\n",
       "      <td>2007</td>\n",
       "      <td>57</td>\n",
       "    </tr>\n",
       "    <tr>\n",
       "      <th>1</th>\n",
       "      <td>2008</td>\n",
       "      <td>61</td>\n",
       "    </tr>\n",
       "    <tr>\n",
       "      <th>0</th>\n",
       "      <td>2009</td>\n",
       "      <td>90</td>\n",
       "    </tr>\n",
       "    <tr>\n",
       "      <th>2</th>\n",
       "      <td>2010</td>\n",
       "      <td>57</td>\n",
       "    </tr>\n",
       "    <tr>\n",
       "      <th>4</th>\n",
       "      <td>2011</td>\n",
       "      <td>44</td>\n",
       "    </tr>\n",
       "    <tr>\n",
       "      <th>6</th>\n",
       "      <td>2012</td>\n",
       "      <td>32</td>\n",
       "    </tr>\n",
       "    <tr>\n",
       "      <th>5</th>\n",
       "      <td>2013</td>\n",
       "      <td>41</td>\n",
       "    </tr>\n",
       "    <tr>\n",
       "      <th>7</th>\n",
       "      <td>2014</td>\n",
       "      <td>27</td>\n",
       "    </tr>\n",
       "    <tr>\n",
       "      <th>8</th>\n",
       "      <td>2015</td>\n",
       "      <td>23</td>\n",
       "    </tr>\n",
       "    <tr>\n",
       "      <th>10</th>\n",
       "      <td>2016</td>\n",
       "      <td>16</td>\n",
       "    </tr>\n",
       "    <tr>\n",
       "      <th>9</th>\n",
       "      <td>2017</td>\n",
       "      <td>21</td>\n",
       "    </tr>\n",
       "  </tbody>\n",
       "</table>\n",
       "</div>"
      ],
      "text/plain": [
       "    Year  Count\n",
       "17  1995      1\n",
       "16  2000      1\n",
       "15  2002      2\n",
       "14  2003      2\n",
       "12  2004      8\n",
       "13  2005      4\n",
       "11  2006      9\n",
       "3   2007     57\n",
       "1   2008     61\n",
       "0   2009     90\n",
       "2   2010     57\n",
       "4   2011     44\n",
       "6   2012     32\n",
       "5   2013     41\n",
       "7   2014     27\n",
       "8   2015     23\n",
       "10  2016     16\n",
       "9   2017     21"
      ]
     },
     "execution_count": 235,
     "metadata": {},
     "output_type": "execute_result"
    }
   ],
   "source": [
    "sorted_Year"
   ]
  },
  {
   "cell_type": "code",
   "execution_count": 240,
   "id": "748159f1",
   "metadata": {},
   "outputs": [
    {
     "data": {
      "image/png": "[encoded data removed]",
      "text/plain": [
       "<Figure size 1500x400 with 1 Axes>"
      ]
     },
     "metadata": {},
     "output_type": "display_data"
    }
   ],
   "source": [
    "plt.figure(figsize=(15,4))\n",
    "plt.plot(sorted_Year['Year'],\n",
    "        sorted_Year['Count'])\n",
    "\n",
    "plt.xlabel('Year')\n",
    "plt.ylabel('Total Number of Blasts every Year')\n",
    "plt.grid()\n",
    "plt.show()"
   ]
  },
  {
   "cell_type": "markdown",
   "id": "60fb8e8a",
   "metadata": {},
   "source": [
    "**Insight 10: Which one of sect was the most targeted in Bomb Blasts?(If any sect was targeted)**"
   ]
  },
  {
   "cell_type": "code",
   "execution_count": 246,
   "id": "ef6867f0",
   "metadata": {},
   "outputs": [
    {
     "name": "stdout",
     "output_type": "stream",
     "text": [
      "Number of Times a Sect was Targeted:  97\n"
     ]
    }
   ],
   "source": [
    "print(\"Number of Times a Sect was Targeted: \", df['Targeted Sect if any'].notnull().sum())"
   ]
  },
  {
   "cell_type": "code",
   "execution_count": 247,
   "id": "10420cb0",
   "metadata": {},
   "outputs": [],
   "source": [
    "df['Targeted Sect if any'].fillna('No Sect Targeted', inplace = True)"
   ]
  },
  {
   "cell_type": "code",
   "execution_count": 248,
   "id": "12210d28",
   "metadata": {},
   "outputs": [
    {
     "data": {
      "text/plain": [
       "Targeted Sect if any\n",
       "No Sect Targeted    399\n",
       "Shiite               38\n",
       "Sunni                38\n",
       "Christian             9\n",
       "shiite                9\n",
       "Shiite/sunni          1\n",
       "Jews                  1\n",
       "Ahmedi                1\n",
       "Name: count, dtype: int64"
      ]
     },
     "execution_count": 248,
     "metadata": {},
     "output_type": "execute_result"
    }
   ],
   "source": [
    "df['Targeted Sect if any'].value_counts()"
   ]
  },
  {
   "cell_type": "code",
   "execution_count": 253,
   "id": "36d09ad9",
   "metadata": {},
   "outputs": [
    {
     "data": {
      "image/png": "[encoded data removed]",
      "text/plain": [
       "<Figure size 1500x400 with 1 Axes>"
      ]
     },
     "metadata": {},
     "output_type": "display_data"
    }
   ],
   "source": [
    "plt.figure(figsize= (15,4))\n",
    "df['Targeted Sect if any'].value_counts().plot(kind='bar',\n",
    "                                               rot=0,\n",
    "                                               color='c')\n",
    "\n",
    "plt.xlabel('Targeted Sect')\n",
    "plt.ylabel('Number of Blast on specific Sect')\n",
    "plt.show()"
   ]
  },
  {
   "cell_type": "markdown",
   "id": "d7bd2fce",
   "metadata": {},
   "source": [
    "**Insight 11: Total Number of People Killed and injured in every year with Bomb Blasts Attack?**"
   ]
  },
  {
   "cell_type": "code",
   "execution_count": 275,
   "id": "ea2192cb",
   "metadata": {},
   "outputs": [
    {
     "name": "stdout",
     "output_type": "stream",
     "text": [
      "Number of null values in killed max column:  0\n",
      "Number of null values in killed min column:  146\n",
      "Number of null values in Injured max column:  35\n",
      "Number of null values in Injured max column:  131\n"
     ]
    }
   ],
   "source": [
    "#Number of NUll values in killed max and injured max\n",
    "print('Number of null values in killed max column: ', df['Killed Max'].isna().sum())\n",
    "print('Number of null values in killed min column: ', df['Killed Min'].isna().sum())\n",
    "print('Number of null values in Injured max column: ', df['Injured Max'].isna().sum())\n",
    "print('Number of null values in Injured max column: ', df['Injured Min'].isna().sum())"
   ]
  },
  {
   "cell_type": "code",
   "execution_count": 281,
   "id": "29a55a1b",
   "metadata": {},
   "outputs": [],
   "source": [
    "#Replacing Null values in Injured Max Column with mean value\n",
    "df['Injured Max'].fillna(df['Injured Max'].mean(),inplace=True)\n",
    "\n",
    "#Replacing Null values in Injured Min Column with mean value\n",
    "df['Injured Min'].fillna(df['Injured Min'].mean(),inplace=True)\n",
    "\n",
    "#Replacing Null values in Killed Min Column with mean value\n",
    "df['Killed Min'].fillna(df['Killed Min'].mean(),inplace=True)"
   ]
  },
  {
   "cell_type": "code",
   "execution_count": 292,
   "id": "fccb9a03",
   "metadata": {},
   "outputs": [
    {
     "name": "stdout",
     "output_type": "stream",
     "text": [
      "Number of null values in killed max column after filling nan:  0\n",
      "Number of null values in killed min column after filling nan:  0\n",
      "Number of null values in Injured max column after filling nan:  0\n",
      "Number of null values in Injured max column after filling nan:  0\n"
     ]
    }
   ],
   "source": [
    "#Number of NUll values in killed max and injured max after replacment\n",
    "print('Number of null values in killed max column after filling nan: ', df['Killed Max'].isna().sum())\n",
    "print('Number of null values in killed min column after filling nan: ', df['Killed Min'].isna().sum())\n",
    "print('Number of null values in Injured max column after filling nan: ', df['Injured Max'].isna().sum())\n",
    "print('Number of null values in Injured max column after filling nan: ', df['Injured Min'].isna().sum())"
   ]
  },
  {
   "cell_type": "code",
   "execution_count": 293,
   "id": "43cd8b4e",
   "metadata": {},
   "outputs": [],
   "source": [
    "temp_df = df[['Year', 'Killed Max', 'Killed Min', 'Injured Max', 'Injured Min']]"
   ]
  },
  {
   "cell_type": "code",
   "execution_count": 294,
   "id": "7e52a26f",
   "metadata": {},
   "outputs": [],
   "source": [
    "df['Injured Max'] = pd.to_numeric(df['Injured Max'], errors='coerce')"
   ]
  },
  {
   "cell_type": "code",
   "execution_count": 295,
   "id": "172c5e21",
   "metadata": {},
   "outputs": [
    {
     "name": "stdout",
     "output_type": "stream",
     "text": [
      "<class 'pandas.core.frame.DataFrame'>\n",
      "RangeIndex: 496 entries, 0 to 495\n",
      "Data columns (total 26 columns):\n",
      " #   Column                   Non-Null Count  Dtype  \n",
      "---  ------                   --------------  -----  \n",
      " 0   Date                     496 non-null    object \n",
      " 1   Islamic Date             342 non-null    object \n",
      " 2   Blast Day Type           486 non-null    object \n",
      " 3   Holiday Type             72 non-null     object \n",
      " 4   Time                     285 non-null    object \n",
      " 5   City                     496 non-null    object \n",
      " 6   Latitude                 493 non-null    float64\n",
      " 7   Longitude                493 non-null    object \n",
      " 8   Province                 496 non-null    object \n",
      " 9   Location                 493 non-null    object \n",
      " 10  Location Category        496 non-null    object \n",
      " 11  Location Sensitivity     496 non-null    object \n",
      " 12  Open/Closed Space        461 non-null    object \n",
      " 13  Influencing Event/Event  191 non-null    object \n",
      " 14  Target Type              496 non-null    object \n",
      " 15  Targeted Sect if any     496 non-null    object \n",
      " 16  Killed Min               496 non-null    float64\n",
      " 17  Killed Max               496 non-null    float64\n",
      " 18  Injured Min              496 non-null    float64\n",
      " 19  Injured Max              496 non-null    float64\n",
      " 20  No. of Suicide Blasts    414 non-null    float64\n",
      " 21  Explosive Weight (max)   172 non-null    object \n",
      " 22  Hospital Names           297 non-null    object \n",
      " 23  Temperature(C)           491 non-null    float64\n",
      " 24  Temperature(F)           489 non-null    float64\n",
      " 25  Year                     496 non-null    object \n",
      "dtypes: float64(8), object(18)\n",
      "memory usage: 100.9+ KB\n"
     ]
    }
   ],
   "source": [
    "df.info()"
   ]
  },
  {
   "cell_type": "code",
   "execution_count": 296,
   "id": "2aae3ed1",
   "metadata": {},
   "outputs": [
    {
     "data": {
      "text/html": [
       "<div>\n",
       "<style scoped>\n",
       "    .dataframe tbody tr th:only-of-type {\n",
       "        vertical-align: middle;\n",
       "    }\n",
       "\n",
       "    .dataframe tbody tr th {\n",
       "        vertical-align: top;\n",
       "    }\n",
       "\n",
       "    .dataframe thead th {\n",
       "        text-align: right;\n",
       "    }\n",
       "</style>\n",
       "<table border=\"1\" class=\"dataframe\">\n",
       "  <thead>\n",
       "    <tr style=\"text-align: right;\">\n",
       "      <th></th>\n",
       "      <th>Year</th>\n",
       "      <th>Killed Max</th>\n",
       "      <th>Killed Min</th>\n",
       "      <th>Injured Max</th>\n",
       "      <th>Injured Min</th>\n",
       "    </tr>\n",
       "  </thead>\n",
       "  <tbody>\n",
       "    <tr>\n",
       "      <th>0</th>\n",
       "      <td>1995</td>\n",
       "      <td>15.0</td>\n",
       "      <td>14.000000</td>\n",
       "      <td>60.0</td>\n",
       "      <td>31.39726</td>\n",
       "    </tr>\n",
       "    <tr>\n",
       "      <th>1</th>\n",
       "      <td>2000</td>\n",
       "      <td>3.0</td>\n",
       "      <td>14.725714</td>\n",
       "      <td>3.0</td>\n",
       "      <td>31.39726</td>\n",
       "    </tr>\n",
       "    <tr>\n",
       "      <th>2</th>\n",
       "      <td>2002</td>\n",
       "      <td>15.0</td>\n",
       "      <td>13.000000</td>\n",
       "      <td>40.0</td>\n",
       "      <td>20.00000</td>\n",
       "    </tr>\n",
       "    <tr>\n",
       "      <th>3</th>\n",
       "      <td>2002</td>\n",
       "      <td>12.0</td>\n",
       "      <td>14.725714</td>\n",
       "      <td>51.0</td>\n",
       "      <td>31.39726</td>\n",
       "    </tr>\n",
       "    <tr>\n",
       "      <th>4</th>\n",
       "      <td>2003</td>\n",
       "      <td>47.0</td>\n",
       "      <td>44.000000</td>\n",
       "      <td>65.0</td>\n",
       "      <td>31.39726</td>\n",
       "    </tr>\n",
       "    <tr>\n",
       "      <th>...</th>\n",
       "      <td>...</td>\n",
       "      <td>...</td>\n",
       "      <td>...</td>\n",
       "      <td>...</td>\n",
       "      <td>...</td>\n",
       "    </tr>\n",
       "    <tr>\n",
       "      <th>491</th>\n",
       "      <td>2017</td>\n",
       "      <td>22.0</td>\n",
       "      <td>21.000000</td>\n",
       "      <td>0.0</td>\n",
       "      <td>25.00000</td>\n",
       "    </tr>\n",
       "    <tr>\n",
       "      <th>492</th>\n",
       "      <td>2017</td>\n",
       "      <td>7.0</td>\n",
       "      <td>7.000000</td>\n",
       "      <td>22.0</td>\n",
       "      <td>22.00000</td>\n",
       "    </tr>\n",
       "    <tr>\n",
       "      <th>493</th>\n",
       "      <td>2017</td>\n",
       "      <td>2.0</td>\n",
       "      <td>2.000000</td>\n",
       "      <td>8.0</td>\n",
       "      <td>8.00000</td>\n",
       "    </tr>\n",
       "    <tr>\n",
       "      <th>494</th>\n",
       "      <td>2017</td>\n",
       "      <td>3.0</td>\n",
       "      <td>1.000000</td>\n",
       "      <td>8.0</td>\n",
       "      <td>6.00000</td>\n",
       "    </tr>\n",
       "    <tr>\n",
       "      <th>495</th>\n",
       "      <td>2017</td>\n",
       "      <td>4.0</td>\n",
       "      <td>4.000000</td>\n",
       "      <td>22.0</td>\n",
       "      <td>16.00000</td>\n",
       "    </tr>\n",
       "  </tbody>\n",
       "</table>\n",
       "<p>496 rows × 5 columns</p>\n",
       "</div>"
      ],
      "text/plain": [
       "     Year  Killed Max  Killed Min  Injured Max  Injured Min\n",
       "0    1995        15.0   14.000000         60.0     31.39726\n",
       "1    2000         3.0   14.725714          3.0     31.39726\n",
       "2    2002        15.0   13.000000         40.0     20.00000\n",
       "3    2002        12.0   14.725714         51.0     31.39726\n",
       "4    2003        47.0   44.000000         65.0     31.39726\n",
       "..    ...         ...         ...          ...          ...\n",
       "491  2017        22.0   21.000000          0.0     25.00000\n",
       "492  2017         7.0    7.000000         22.0     22.00000\n",
       "493  2017         2.0    2.000000          8.0      8.00000\n",
       "494  2017         3.0    1.000000          8.0      6.00000\n",
       "495  2017         4.0    4.000000         22.0     16.00000\n",
       "\n",
       "[496 rows x 5 columns]"
      ]
     },
     "execution_count": 296,
     "metadata": {},
     "output_type": "execute_result"
    }
   ],
   "source": [
    "temp_df"
   ]
  },
  {
   "cell_type": "code",
   "execution_count": 297,
   "id": "6da71e46",
   "metadata": {
    "collapsed": true
   },
   "outputs": [
    {
     "name": "stderr",
     "output_type": "stream",
     "text": [
      "C:\\Users\\DELL\\AppData\\Local\\Temp\\ipykernel_16672\\3907867660.py:2: SettingWithCopyWarning:\n",
      "\n",
      "\n",
      "A value is trying to be set on a copy of a slice from a DataFrame.\n",
      "Try using .loc[row_indexer,col_indexer] = value instead\n",
      "\n",
      "See the caveats in the documentation: https://pandas.pydata.org/pandas-docs/stable/user_guide/indexing.html#returning-a-view-versus-a-copy\n",
      "\n",
      "C:\\Users\\DELL\\AppData\\Local\\Temp\\ipykernel_16672\\3907867660.py:5: SettingWithCopyWarning:\n",
      "\n",
      "\n",
      "A value is trying to be set on a copy of a slice from a DataFrame.\n",
      "Try using .loc[row_indexer,col_indexer] = value instead\n",
      "\n",
      "See the caveats in the documentation: https://pandas.pydata.org/pandas-docs/stable/user_guide/indexing.html#returning-a-view-versus-a-copy\n",
      "\n"
     ]
    }
   ],
   "source": [
    "#finding average number of people killed\n",
    "temp_df['people_killed'] = (temp_df['Killed Max'] + temp_df['Killed Min']) / 2\n",
    "\n",
    "#finding avaerage number of pople Injured\n",
    "temp_df['people_injured'] = (temp_df['Injured Max'] + temp_df['Injured Min']) / 2"
   ]
  },
  {
   "cell_type": "code",
   "execution_count": 299,
   "id": "6a6cf706",
   "metadata": {},
   "outputs": [
    {
     "data": {
      "text/html": [
       "<div>\n",
       "<style scoped>\n",
       "    .dataframe tbody tr th:only-of-type {\n",
       "        vertical-align: middle;\n",
       "    }\n",
       "\n",
       "    .dataframe tbody tr th {\n",
       "        vertical-align: top;\n",
       "    }\n",
       "\n",
       "    .dataframe thead th {\n",
       "        text-align: right;\n",
       "    }\n",
       "</style>\n",
       "<table border=\"1\" class=\"dataframe\">\n",
       "  <thead>\n",
       "    <tr style=\"text-align: right;\">\n",
       "      <th></th>\n",
       "      <th>Year</th>\n",
       "      <th>Killed Max</th>\n",
       "      <th>Killed Min</th>\n",
       "      <th>Injured Max</th>\n",
       "      <th>Injured Min</th>\n",
       "      <th>people_killed</th>\n",
       "      <th>people_injured</th>\n",
       "    </tr>\n",
       "  </thead>\n",
       "  <tbody>\n",
       "    <tr>\n",
       "      <th>0</th>\n",
       "      <td>1995</td>\n",
       "      <td>15.0</td>\n",
       "      <td>14.000000</td>\n",
       "      <td>60.0</td>\n",
       "      <td>31.39726</td>\n",
       "      <td>14.500000</td>\n",
       "      <td>45.69863</td>\n",
       "    </tr>\n",
       "    <tr>\n",
       "      <th>1</th>\n",
       "      <td>2000</td>\n",
       "      <td>3.0</td>\n",
       "      <td>14.725714</td>\n",
       "      <td>3.0</td>\n",
       "      <td>31.39726</td>\n",
       "      <td>8.862857</td>\n",
       "      <td>17.19863</td>\n",
       "    </tr>\n",
       "    <tr>\n",
       "      <th>2</th>\n",
       "      <td>2002</td>\n",
       "      <td>15.0</td>\n",
       "      <td>13.000000</td>\n",
       "      <td>40.0</td>\n",
       "      <td>20.00000</td>\n",
       "      <td>14.000000</td>\n",
       "      <td>30.00000</td>\n",
       "    </tr>\n",
       "    <tr>\n",
       "      <th>3</th>\n",
       "      <td>2002</td>\n",
       "      <td>12.0</td>\n",
       "      <td>14.725714</td>\n",
       "      <td>51.0</td>\n",
       "      <td>31.39726</td>\n",
       "      <td>13.362857</td>\n",
       "      <td>41.19863</td>\n",
       "    </tr>\n",
       "    <tr>\n",
       "      <th>4</th>\n",
       "      <td>2003</td>\n",
       "      <td>47.0</td>\n",
       "      <td>44.000000</td>\n",
       "      <td>65.0</td>\n",
       "      <td>31.39726</td>\n",
       "      <td>45.500000</td>\n",
       "      <td>48.19863</td>\n",
       "    </tr>\n",
       "  </tbody>\n",
       "</table>\n",
       "</div>"
      ],
      "text/plain": [
       "   Year  Killed Max  Killed Min  Injured Max  Injured Min  people_killed  \\\n",
       "0  1995        15.0   14.000000         60.0     31.39726      14.500000   \n",
       "1  2000         3.0   14.725714          3.0     31.39726       8.862857   \n",
       "2  2002        15.0   13.000000         40.0     20.00000      14.000000   \n",
       "3  2002        12.0   14.725714         51.0     31.39726      13.362857   \n",
       "4  2003        47.0   44.000000         65.0     31.39726      45.500000   \n",
       "\n",
       "   people_injured  \n",
       "0        45.69863  \n",
       "1        17.19863  \n",
       "2        30.00000  \n",
       "3        41.19863  \n",
       "4        48.19863  "
      ]
     },
     "execution_count": 299,
     "metadata": {},
     "output_type": "execute_result"
    }
   ],
   "source": [
    "temp_df.head()"
   ]
  },
  {
   "cell_type": "code",
   "execution_count": 303,
   "id": "ce069da8",
   "metadata": {},
   "outputs": [
    {
     "data": {
      "image/png": "[encoded data removed]",
      "text/plain": [
       "<Figure size 1500x800 with 1 Axes>"
      ]
     },
     "metadata": {},
     "output_type": "display_data"
    }
   ],
   "source": [
    "yearly = temp_df.groupby([\"Year\"], as_index=False).sum()\n",
    "fig = yearly.plot(x=\"Year\", \n",
    "                y=[\"people_killed\", \"people_injured\"], \n",
    "                kind=\"bar\", \n",
    "                figsize=(15,8), align='center'\n",
    "                 )"
   ]
  },
  {
   "cell_type": "markdown",
   "id": "89eeef57",
   "metadata": {},
   "source": [
    "**Insight 12: Which Day Type (when blast happened) had most number of Victims(Either Wroking Day, Hoilday) ?**\n",
    "\n",
    "Victims will be Killed plus Injured..."
   ]
  },
  {
   "cell_type": "code",
   "execution_count": 304,
   "id": "e29483f7",
   "metadata": {},
   "outputs": [],
   "source": [
    "df['Total_Victims'] = temp_df['people_killed'] + temp_df['people_injured']"
   ]
  },
  {
   "cell_type": "code",
   "execution_count": 305,
   "id": "912d9e8b",
   "metadata": {},
   "outputs": [],
   "source": [
    "df_day_Type_total_victimes= df.groupby('Blast Day Type', as_index=False)['Total_Victims'].sum()"
   ]
  },
  {
   "cell_type": "code",
   "execution_count": 306,
   "id": "387878c4",
   "metadata": {},
   "outputs": [
    {
     "data": {
      "text/html": [
       "<div>\n",
       "<style scoped>\n",
       "    .dataframe tbody tr th:only-of-type {\n",
       "        vertical-align: middle;\n",
       "    }\n",
       "\n",
       "    .dataframe tbody tr th {\n",
       "        vertical-align: top;\n",
       "    }\n",
       "\n",
       "    .dataframe thead th {\n",
       "        text-align: right;\n",
       "    }\n",
       "</style>\n",
       "<table border=\"1\" class=\"dataframe\">\n",
       "  <thead>\n",
       "    <tr style=\"text-align: right;\">\n",
       "      <th></th>\n",
       "      <th>Blast Day Type</th>\n",
       "      <th>Total_Victims</th>\n",
       "    </tr>\n",
       "  </thead>\n",
       "  <tbody>\n",
       "    <tr>\n",
       "      <th>0</th>\n",
       "      <td>Holiday</td>\n",
       "      <td>3948.113223</td>\n",
       "    </tr>\n",
       "    <tr>\n",
       "      <th>1</th>\n",
       "      <td>Weekend</td>\n",
       "      <td>249.061487</td>\n",
       "    </tr>\n",
       "    <tr>\n",
       "      <th>2</th>\n",
       "      <td>Working Day</td>\n",
       "      <td>19561.343940</td>\n",
       "    </tr>\n",
       "  </tbody>\n",
       "</table>\n",
       "</div>"
      ],
      "text/plain": [
       "  Blast Day Type  Total_Victims\n",
       "0        Holiday    3948.113223\n",
       "1        Weekend     249.061487\n",
       "2    Working Day   19561.343940"
      ]
     },
     "execution_count": 306,
     "metadata": {},
     "output_type": "execute_result"
    }
   ],
   "source": [
    "df_day_Type_total_victimes"
   ]
  },
  {
   "cell_type": "code",
   "execution_count": 307,
   "id": "4da27245",
   "metadata": {},
   "outputs": [
    {
     "data": {
      "image/png": "[encoded data removed]",
      "text/plain": [
       "<Figure size 640x480 with 1 Axes>"
      ]
     },
     "metadata": {},
     "output_type": "display_data"
    }
   ],
   "source": [
    "sns.barplot(data = df_day_Type_total_victimes,\n",
    "           x= 'Blast Day Type',\n",
    "           y= 'Total_Victims')\n",
    "\n",
    "plt.xlabel('Blast Day Type')\n",
    "plt.ylabel('Total Number of Victims (Killed + Injured)')\n",
    "plt.show()"
   ]
  },
  {
   "cell_type": "code",
   "execution_count": null,
   "id": "bc35b09c",
   "metadata": {},
   "outputs": [],
   "source": []
  }
 ],
 "metadata": {
  "kernelspec": {
   "display_name": "Python 3 (ipykernel)",
   "language": "python",
   "name": "python3"
  },
  "language_info": {
   "codemirror_mode": {
    "name": "ipython",
    "version": 3
   },
   "file_extension": ".py",
   "mimetype": "text/x-python",
   "name": "python",
   "nbconvert_exporter": "python",
   "pygments_lexer": "ipython3",
   "version": "3.9.13"
  }
 },
 "nbformat": 4,
 "nbformat_minor": 5
}
